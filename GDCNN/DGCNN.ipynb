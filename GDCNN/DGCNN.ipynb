{
 "cells": [
  {
   "cell_type": "code",
   "execution_count": 1,
   "metadata": {},
   "outputs": [
    {
     "name": "stderr",
     "output_type": "stream",
     "text": [
      "Using TensorFlow backend.\n"
     ]
    }
   ],
   "source": [
    "import utils\n",
    "import classes\n",
    "import h5py\n",
    "import pandas as pd\n",
    "from keras.layers import *\n",
    "from keras import Model\n",
    "from keras.models import Sequential\n",
    "from keras.layers.advanced_activations import PReLU\n",
    "from keras import regularizers\n",
    "import numpy as np\n",
    "import keras, time\n",
    "import keras.backend as K\n",
    "import tensorflow as tf\n",
    "import matplotlib.pyplot as plt\n"
   ]
  },
  {
   "cell_type": "code",
   "execution_count": 2,
   "metadata": {},
   "outputs": [
    {
     "name": "stdout",
     "output_type": "stream",
     "text": [
      "Loading indices from None to 100000\n",
      "\n",
      "Mean label\n",
      "0.0\n",
      "\n"
     ]
    }
   ],
   "source": [
    "bg_momenta,bg_labels=utils.loadJetMomentaBenchmark(\"background_val.h5\",nConstituents=40)"
   ]
  },
  {
   "cell_type": "code",
   "execution_count": 3,
   "metadata": {},
   "outputs": [],
   "source": [
    "bg_dataset= h5py.File(\"bg_dataset.h5\", \"w\")"
   ]
  },
  {
   "cell_type": "code",
   "execution_count": 4,
   "metadata": {},
   "outputs": [
    {
     "data": {
      "text/plain": [
       "<HDF5 dataset \"labels\": shape (100000, 2), type \"<f4\">"
      ]
     },
     "execution_count": 4,
     "metadata": {},
     "output_type": "execute_result"
    }
   ],
   "source": [
    "bg_dataset.create_dataset('momenta', data=bg_momenta)\n",
    "bg_dataset.create_dataset('labels', data=bg_labels)"
   ]
  },
  {
   "cell_type": "code",
   "execution_count": 5,
   "metadata": {},
   "outputs": [
    {
     "name": "stdout",
     "output_type": "stream",
     "text": [
      "Loading indices from None to 100000\n",
      "\n",
      "Mean label\n",
      "1.0\n",
      "\n"
     ]
    }
   ],
   "source": [
    "sig_momenta,sig_labels=utils.loadJetMomentaBenchmark(\"signal_val.h5\",nConstituents=40)\n",
    "sig_dataset= h5py.File(\"sig_dataset.h5\", \"w\")"
   ]
  },
  {
   "cell_type": "code",
   "execution_count": 6,
   "metadata": {},
   "outputs": [
    {
     "data": {
      "text/plain": [
       "<HDF5 dataset \"labels\": shape (100000, 2), type \"<f4\">"
      ]
     },
     "execution_count": 6,
     "metadata": {},
     "output_type": "execute_result"
    }
   ],
   "source": [
    "sig_dataset.create_dataset('momenta', data=sig_momenta)\n",
    "sig_dataset.create_dataset('labels', data=sig_labels)"
   ]
  },
  {
   "cell_type": "code",
   "execution_count": 7,
   "metadata": {},
   "outputs": [],
   "source": [
    "def getData(bg_file, sig_file, nJets, nConst, test=False):\n",
    "    \"\"\"Get data for training or testing\n",
    "    Input:\n",
    "      bg_file: str - path to file from which to load bg (and sig) data\n",
    "      sig_file: str or None - path to sig data, if None sig in bg_file\n",
    "      nJets: int - number of jets loaded\n",
    "      nConst: int - number of constituents loaded per jet\n",
    "    Returns:\n",
    "      momenta: (nJets, nConst, 7) - array with constituent features\n",
    "      labels: (nJetas, 2) - array with one hot labels\n",
    "    \"\"\"\n",
    "    if sig_file:\n",
    "        nJets = slice(nJets)\n",
    "        momenta, labels = utils.loadJetMomenta([bg_file, sig_file],\n",
    "            nJets=nJets, nConstituents=nConst)\n",
    "        momenta = np.transpose(momenta, axes=(0, 2, 1))\n",
    "    else:\n",
    "        momenta, labels = utils.loadJetMomentaBenchmark(\n",
    "            bg_file, nConstituents=nConst, end=nJets)\n",
    "    \n",
    "    momenta = utils.transformMomenta(momenta)\n",
    "    return momenta, labels"
   ]
  },
  {
   "cell_type": "code",
   "execution_count": 8,
   "metadata": {},
   "outputs": [
    {
     "name": "stdout",
     "output_type": "stream",
     "text": [
      "Loading by given slice slice(None, 40000, None)\n",
      "\n",
      "40000 bg jets loaded from bg_dataset.h5\n",
      "40000 sig jets loaded from sig_dataset.h5\n",
      "\n",
      "\n",
      "(80000, 30, 4) (80000, 2)\n"
     ]
    },
    {
     "name": "stderr",
     "output_type": "stream",
     "text": [
      "C:\\Users\\wangs\\Lola\\utils.py:103: RuntimeWarning: invalid value encountered in true_divide\n",
      "  eta = 0.5 * np.log((p + momenta[:, 3, :]) / (p - momenta[:, 3, :]))\n",
      "C:\\Users\\wangs\\Lola\\utils.py:115: RuntimeWarning: divide by zero encountered in log\n",
      "  newVec = np.stack([eta, phi, np.log(pT), np.log(e),\n",
      "C:\\Users\\wangs\\Lola\\utils.py:116: RuntimeWarning: divide by zero encountered in log\n",
      "  np.log(pT / jetPt), np.log(e / jetE), dR], axis=-1)\n"
     ]
    }
   ],
   "source": [
    "\"\"\"Transform 4 momenta into vector with delta eta, delta phi, log pT, log E,\n",
    "    log pT / pTjet, log E / Ejet, delta R\n",
    "    Input:\n",
    "     momenta: (nJets, 4, nConstituents)\n",
    "    Returns:\n",
    "     momenta: (nJets, nConstituents, 7)\n",
    "    \"\"\"\n",
    "momenta, labels = getData(\n",
    "        bg_file=\"bg_dataset.h5\",\n",
    "        sig_file=\"sig_dataset.h5\",\n",
    "        nJets= 40000,\n",
    "        nConst=30)"
   ]
  },
  {
   "cell_type": "code",
   "execution_count": 10,
   "metadata": {},
   "outputs": [
    {
     "data": {
      "text/plain": [
       "array([1., 0.], dtype=float32)"
      ]
     },
     "execution_count": 10,
     "metadata": {},
     "output_type": "execute_result"
    }
   ],
   "source": [
    "labels[0]"
   ]
  },
  {
   "cell_type": "code",
   "execution_count": 9,
   "metadata": {},
   "outputs": [],
   "source": [
    "from sklearn.model_selection import train_test_split\n",
    "X_train, X_test, y_train, y_test = train_test_split(momenta, labels, test_size=0.2, random_state=42)"
   ]
  },
  {
   "cell_type": "code",
   "execution_count": 10,
   "metadata": {},
   "outputs": [],
   "source": [
    "#model = classes.EdgeConvClassifier((40,4)).model\n",
    "model= classes.EdgeConvClassifier((30, 7)).model"
   ]
  },
  {
   "cell_type": "code",
   "execution_count": 11,
   "metadata": {},
   "outputs": [],
   "source": [
    "model.compile(\n",
    "            optimizer=keras.optimizers.Adam(lr=0.0001), \n",
    "            loss='categorical_crossentropy', \n",
    "            metrics=['acc'])\n"
   ]
  },
  {
   "cell_type": "code",
   "execution_count": 12,
   "metadata": {},
   "outputs": [
    {
     "name": "stdout",
     "output_type": "stream",
     "text": [
      "Model: \"model_1\"\n",
      "__________________________________________________________________________________________________\n",
      "Layer (type)                    Output Shape         Param #     Connected to                     \n",
      "==================================================================================================\n",
      "input_1 (InputLayer)            (None, 30, 7)        0                                            \n",
      "__________________________________________________________________________________________________\n",
      "edge_conv_1 (EdgeConv)          (None, 30, 64)       10048       input_1[0][0]                    \n",
      "__________________________________________________________________________________________________\n",
      "edge_conv_2 (EdgeConv)          (None, 30, 64)       17344       edge_conv_1[0][0]                \n",
      "__________________________________________________________________________________________________\n",
      "edge_conv_3 (EdgeConv)          (None, 30, 128)      51072       edge_conv_2[0][0]                \n",
      "__________________________________________________________________________________________________\n",
      "concatenate_1 (Concatenate)     (None, 30, 263)      0           edge_conv_1[0][0]                \n",
      "                                                                 edge_conv_2[0][0]                \n",
      "                                                                 edge_conv_3[0][0]                \n",
      "                                                                 input_1[0][0]                    \n",
      "__________________________________________________________________________________________________\n",
      "global_average_pooling1d_1 (Glo (None, 263)          0           concatenate_1[0][0]              \n",
      "__________________________________________________________________________________________________\n",
      "dropout_1 (Dropout)             (None, 263)          0           global_average_pooling1d_1[0][0] \n",
      "__________________________________________________________________________________________________\n",
      "dense_1 (Dense)                 (None, 512)          135168      dropout_1[0][0]                  \n",
      "__________________________________________________________________________________________________\n",
      "dropout_2 (Dropout)             (None, 512)          0           dense_1[0][0]                    \n",
      "__________________________________________________________________________________________________\n",
      "dense_2 (Dense)                 (None, 256)          131328      dropout_2[0][0]                  \n",
      "__________________________________________________________________________________________________\n",
      "test (Dense)                    (None, 2)            514         dense_2[0][0]                    \n",
      "==================================================================================================\n",
      "Total params: 345,474\n",
      "Trainable params: 343,938\n",
      "Non-trainable params: 1,536\n",
      "__________________________________________________________________________________________________\n",
      "None\n"
     ]
    }
   ],
   "source": [
    "print(model.summary())\n"
   ]
  },
  {
   "cell_type": "code",
   "execution_count": 13,
   "metadata": {},
   "outputs": [
    {
     "name": "stdout",
     "output_type": "stream",
     "text": [
      "Train on 51200 samples, validate on 12800 samples\n",
      "Epoch 1/50\n",
      " - 54s - loss: 0.4743 - acc: 0.7709 - val_loss: 0.5523 - val_acc: 0.7334\n",
      "Epoch 2/50\n",
      " - 52s - loss: 0.2976 - acc: 0.8883 - val_loss: 0.2881 - val_acc: 0.8915\n",
      "Epoch 3/50\n",
      " - 56s - loss: 0.2683 - acc: 0.8993 - val_loss: 0.2615 - val_acc: 0.9009\n",
      "Epoch 4/50\n",
      " - 51s - loss: 0.2545 - acc: 0.9025 - val_loss: 0.2465 - val_acc: 0.9041\n",
      "Epoch 5/50\n",
      " - 51s - loss: 0.2476 - acc: 0.9034 - val_loss: 0.2467 - val_acc: 0.9024\n",
      "Epoch 6/50\n",
      " - 56s - loss: 0.2378 - acc: 0.9075 - val_loss: 0.2358 - val_acc: 0.9049\n",
      "Epoch 7/50\n",
      " - 58s - loss: 0.2321 - acc: 0.9079 - val_loss: 0.2532 - val_acc: 0.8944\n",
      "Epoch 8/50\n",
      " - 51s - loss: 0.2285 - acc: 0.9092 - val_loss: 0.2292 - val_acc: 0.9059\n",
      "Epoch 9/50\n",
      " - 54s - loss: 0.2208 - acc: 0.9123 - val_loss: 0.2249 - val_acc: 0.9086\n",
      "Epoch 10/50\n",
      " - 55s - loss: 0.2174 - acc: 0.9141 - val_loss: 0.2200 - val_acc: 0.9092\n",
      "Epoch 11/50\n",
      " - 55s - loss: 0.2129 - acc: 0.9153 - val_loss: 0.2236 - val_acc: 0.9102\n",
      "Epoch 12/50\n",
      " - 57s - loss: 0.2113 - acc: 0.9160 - val_loss: 0.2156 - val_acc: 0.9114\n",
      "Epoch 13/50\n",
      " - 56s - loss: 0.2073 - acc: 0.9170 - val_loss: 0.2165 - val_acc: 0.9099\n",
      "Epoch 14/50\n",
      " - 55s - loss: 0.2042 - acc: 0.9188 - val_loss: 0.2180 - val_acc: 0.9106\n",
      "Epoch 15/50\n",
      " - 55s - loss: 0.2008 - acc: 0.9210 - val_loss: 0.2171 - val_acc: 0.9113\n",
      "Epoch 16/50\n",
      " - 55s - loss: 0.1993 - acc: 0.9199 - val_loss: 0.2206 - val_acc: 0.9109\n",
      "Epoch 17/50\n",
      " - 55s - loss: 0.1970 - acc: 0.9215 - val_loss: 0.2334 - val_acc: 0.9048\n",
      "Epoch 18/50\n",
      " - 54s - loss: 0.1959 - acc: 0.9223 - val_loss: 0.2212 - val_acc: 0.9128\n",
      "Epoch 19/50\n",
      " - 53s - loss: 0.1932 - acc: 0.9226 - val_loss: 0.2177 - val_acc: 0.9103\n",
      "Epoch 20/50\n",
      " - 51s - loss: 0.1911 - acc: 0.9245 - val_loss: 0.2124 - val_acc: 0.9131\n",
      "Epoch 21/50\n",
      " - 53s - loss: 0.1886 - acc: 0.9252 - val_loss: 0.2264 - val_acc: 0.9108\n",
      "Epoch 22/50\n",
      " - 53s - loss: 0.1894 - acc: 0.9246 - val_loss: 0.2155 - val_acc: 0.9112\n",
      "Epoch 23/50\n",
      " - 54s - loss: 0.1863 - acc: 0.9260 - val_loss: 0.2113 - val_acc: 0.9137\n",
      "Epoch 24/50\n",
      " - 51s - loss: 0.1862 - acc: 0.9262 - val_loss: 0.2181 - val_acc: 0.9095\n",
      "Epoch 25/50\n",
      " - 52s - loss: 0.1826 - acc: 0.9273 - val_loss: 0.2221 - val_acc: 0.9093\n",
      "Epoch 26/50\n",
      " - 54s - loss: 0.1834 - acc: 0.9269 - val_loss: 0.2159 - val_acc: 0.9120\n",
      "Epoch 27/50\n",
      " - 53s - loss: 0.1800 - acc: 0.9283 - val_loss: 0.2130 - val_acc: 0.9117\n",
      "Epoch 28/50\n",
      " - 53s - loss: 0.1782 - acc: 0.9299 - val_loss: 0.2163 - val_acc: 0.9126\n",
      "Epoch 29/50\n",
      " - 52s - loss: 0.1766 - acc: 0.9302 - val_loss: 0.2332 - val_acc: 0.9098\n",
      "Epoch 30/50\n",
      " - 53s - loss: 0.1754 - acc: 0.9304 - val_loss: 0.2264 - val_acc: 0.9127\n",
      "Epoch 31/50\n",
      " - 52s - loss: 0.1743 - acc: 0.9309 - val_loss: 0.2142 - val_acc: 0.9130\n",
      "Epoch 32/50\n",
      " - 52s - loss: 0.1737 - acc: 0.9317 - val_loss: 0.2193 - val_acc: 0.9123\n",
      "Epoch 33/50\n",
      " - 52s - loss: 0.1717 - acc: 0.9328 - val_loss: 0.2262 - val_acc: 0.9068\n",
      "Epoch 34/50\n",
      " - 52s - loss: 0.1706 - acc: 0.9329 - val_loss: 0.2280 - val_acc: 0.9052\n",
      "Epoch 35/50\n",
      " - 50s - loss: 0.1684 - acc: 0.9336 - val_loss: 0.2214 - val_acc: 0.9112\n",
      "Epoch 36/50\n",
      " - 53s - loss: 0.1672 - acc: 0.9346 - val_loss: 0.2288 - val_acc: 0.9079\n",
      "Epoch 37/50\n",
      " - 53s - loss: 0.1664 - acc: 0.9350 - val_loss: 0.2538 - val_acc: 0.9090\n",
      "Epoch 38/50\n",
      " - 53s - loss: 0.1654 - acc: 0.9349 - val_loss: 0.2525 - val_acc: 0.8955\n",
      "Epoch 39/50\n",
      " - 53s - loss: 0.1645 - acc: 0.9358 - val_loss: 0.2274 - val_acc: 0.9098\n",
      "Epoch 40/50\n",
      " - 52s - loss: 0.1635 - acc: 0.9353 - val_loss: 0.2230 - val_acc: 0.9115\n",
      "Epoch 41/50\n",
      " - 52s - loss: 0.1629 - acc: 0.9356 - val_loss: 0.2289 - val_acc: 0.9092\n",
      "Epoch 42/50\n",
      " - 52s - loss: 0.1597 - acc: 0.9371 - val_loss: 0.2419 - val_acc: 0.9023\n",
      "Epoch 43/50\n",
      " - 52s - loss: 0.1593 - acc: 0.9374 - val_loss: 0.2474 - val_acc: 0.8977\n",
      "Epoch 44/50\n",
      " - 52s - loss: 0.1583 - acc: 0.9383 - val_loss: 0.2316 - val_acc: 0.9108\n",
      "Epoch 45/50\n",
      " - 52s - loss: 0.1552 - acc: 0.9388 - val_loss: 0.2404 - val_acc: 0.9105\n",
      "Epoch 46/50\n",
      " - 52s - loss: 0.1552 - acc: 0.9392 - val_loss: 0.2442 - val_acc: 0.9094\n",
      "Epoch 47/50\n",
      " - 52s - loss: 0.1540 - acc: 0.9392 - val_loss: 0.2386 - val_acc: 0.9100\n",
      "Epoch 48/50\n",
      " - 52s - loss: 0.1541 - acc: 0.9392 - val_loss: 0.2410 - val_acc: 0.9097\n",
      "Epoch 49/50\n",
      " - 51s - loss: 0.1505 - acc: 0.9411 - val_loss: 0.2407 - val_acc: 0.9104\n",
      "Epoch 50/50\n",
      " - 53s - loss: 0.1484 - acc: 0.9420 - val_loss: 0.2363 - val_acc: 0.9112\n"
     ]
    }
   ],
   "source": [
    "history = model.fit(X_train, y_train,\n",
    "        verbose=2,\n",
    "        batch_size=1024,\n",
    "        validation_split=0.2,\n",
    "        epochs=50)"
   ]
  },
  {
   "cell_type": "code",
   "execution_count": 17,
   "metadata": {},
   "outputs": [
    {
     "data": {
      "image/png": "[encoded data removed]",
      "text/plain": [
       "<Figure size 432x288 with 1 Axes>"
      ]
     },
     "metadata": {
      "needs_background": "light"
     },
     "output_type": "display_data"
    }
   ],
   "source": [
    "\n",
    "plt.figure()\n",
    "plt.plot(history.history['loss'])\n",
    "plt.plot(history.history['val_loss'])\n",
    "plt.title('Model Loss over Epochs')\n",
    "plt.ylabel('Loss')\n",
    "plt.xlabel('Epoch')\n",
    "plt.legend(['training set','validation set'])\n",
    "plt.show()"
   ]
  },
  {
   "cell_type": "code",
   "execution_count": null,
   "metadata": {},
   "outputs": [],
   "source": []
  },
  {
   "cell_type": "code",
   "execution_count": null,
   "metadata": {},
   "outputs": [],
   "source": []
  },
  {
   "cell_type": "code",
   "execution_count": 18,
   "metadata": {},
   "outputs": [],
   "source": [
    "label = ['t']\n",
    "\n",
    "def makeRoc(features_val, labels_val, labels, model, outputDir='', outputSuffix=''):\n",
    "    from sklearn.metrics import roc_curve, auc\n",
    "    labels_pred = model.predict(features_val)\n",
    "    df = pd.DataFrame()\n",
    "    fpr = {}\n",
    "    tpr = {}\n",
    "    auc1 = {}\n",
    "    plt.figure(figsize=(10,8))\n",
    "    for i, label in enumerate(labels):\n",
    "        df[label] = labels_val[:,i]\n",
    "        df[label + '_pred'] = labels_pred[:,i]\n",
    "        fpr[label], tpr[label], threshold = roc_curve(df[label],df[label+'_pred'])\n",
    "        auc1[label] = auc(fpr[label], tpr[label])\n",
    "        plt.plot(fpr[label],tpr[label],label='%s tagger, AUC = %.1f%%'%(label.replace('j_',''),auc1[label]*100.))\n",
    "    plt.plot([0, 1], [0, 1], lw=1, color='black', linestyle='--')\n",
    "    #plt.semilogy()\n",
    "    plt.xlabel(\"Background Efficiency\")\n",
    "    plt.ylabel(\"Signal Efficiency\")\n",
    "    plt.xlim([-0.05, 1.05])\n",
    "    plt.ylim(0.001,1.05)\n",
    "    plt.grid(True)\n",
    "    plt.legend(loc='lower right')\n",
    "    plt.figtext(0.25, 0.90,'DGCNN ROC Curve',fontweight='bold', wrap=True, horizontalalignment='right', fontsize=14)\n",
    "    #plt.figtext(0.35, 0.90,'preliminary', style='italic', wrap=True, horizontalalignment='center', fontsize=14) \n",
    "    #plt.savefig('%sROC_%s.pdf'%(outputDir, outputSuffix))\n",
    "    return labels_pred"
   ]
  },
  {
   "cell_type": "code",
   "execution_count": 19,
   "metadata": {},
   "outputs": [
    {
     "data": {
      "image/png": "[encoded data removed]",
      "text/plain": [
       "<Figure size 720x576 with 1 Axes>"
      ]
     },
     "metadata": {
      "needs_background": "light"
     },
     "output_type": "display_data"
    }
   ],
   "source": [
    "y_pred = makeRoc(X_test, y_test, label, model, outputSuffix='DGCNN')"
   ]
  },
  {
   "cell_type": "code",
   "execution_count": null,
   "metadata": {},
   "outputs": [],
   "source": []
  },
  {
   "cell_type": "code",
   "execution_count": null,
   "metadata": {},
   "outputs": [],
   "source": []
  },
  {
   "cell_type": "code",
   "execution_count": null,
   "metadata": {},
   "outputs": [],
   "source": []
  }
 ],
 "metadata": {
  "kernelspec": {
   "display_name": "Python 3.7 (tensorflow)",
   "language": "python",
   "name": "tensorflow"
  },
  "language_info": {
   "codemirror_mode": {
    "name": "ipython",
    "version": 3
   },
   "file_extension": ".py",
   "mimetype": "text/x-python",
   "name": "python",
   "nbconvert_exporter": "python",
   "pygments_lexer": "ipython3",
   "version": "3.7.7"
  }
 },
 "nbformat": 4,
 "nbformat_minor": 4
}
