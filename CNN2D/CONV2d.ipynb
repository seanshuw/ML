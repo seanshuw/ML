{
 "cells": [
  {
   "cell_type": "code",
   "execution_count": 2,
   "metadata": {},
   "outputs": [
    {
     "name": "stderr",
     "output_type": "stream",
     "text": [
      "Using TensorFlow backend.\n"
     ]
    },
    {
     "name": "stdout",
     "output_type": "stream",
     "text": [
      "Loading configuration from train_config_conv2d.yml\n"
     ]
    },
    {
     "data": {
      "text/plain": [
       "{'Inputs': ['j1_etarot', 'j1_phirot', 'j1_ptrel', 'j_index'],\n",
       " 'Labels': ['j_g', 'j_q', 'j_w', 'j_z', 'j_t', 'j_index'],\n",
       " 'KerasModel': 'conv2d_model',\n",
       " 'KerasModelRetrain': 'conv2d_model_constraint',\n",
       " 'KerasLoss': 'categorical_crossentropy',\n",
       " 'L1Reg': 0.0001,\n",
       " 'NormalizeInputs': 0,\n",
       " 'InputType': 'Conv2D',\n",
       " 'BinsX': 40,\n",
       " 'MinX': -0.8,\n",
       " 'MaxX': 0.8,\n",
       " 'BinsY': 40,\n",
       " 'MinY': -1.0,\n",
       " 'MaxY': 1.0,\n",
       " 'MaxParticles': 100}"
      ]
     },
     "execution_count": 2,
     "metadata": {},
     "output_type": "execute_result"
    }
   ],
   "source": [
    "import keras\n",
    "from keras.models import load_model\n",
    "from sklearn.metrics import roc_curve, auc\n",
    "import numpy as np\n",
    "import os\n",
    "import h5py\n",
    "import yaml\n",
    "import pandas as pd\n",
    "import matplotlib.pyplot as plt\n",
    "from sklearn import preprocessing\n",
    "from tensorflow.keras import datasets, layers, models\n",
    "from tensorflow.keras.regularizers import l1\n",
    "from collections import namedtuple\n",
    "from sklearn.model_selection import train_test_split\n",
    "from tensorflow.keras.optimizers import Adam\n",
    "\n",
    "Option = namedtuple(\"MyStruct\", \"inputModel inputFile tree config jsonModel \")\n",
    "options = Option(\n",
    "    inputModel = 'KERAS_conv2d_model_weights.h5',\n",
    "    inputFile = 'processed-pythia82-lhc13-all-pt1-50k-r1_h022_e0175_t220_nonu_withPars_truth.z',\n",
    "    tree = 't_allpar_new',\n",
    "    config = 'train_config_conv2d.yml',\n",
    "    jsonModel = 'KERAS_conv2d_model.json',\n",
    "    #outputDir = 'output'\n",
    ")\n",
    "\n",
    "print(\"Loading configuration from\", options.config)\n",
    "config = open(options.config, 'r')\n",
    "#print(options.inputFile)\n",
    "yamlConfig =  yaml.load(config, Loader = yaml.FullLoader)\n",
    "yamlConfig\n"
   ]
  },
  {
   "cell_type": "code",
   "execution_count": 3,
   "metadata": {},
   "outputs": [
    {
     "data": {
      "text/html": [
       "<div>\n",
       "<style scoped>\n",
       "    .dataframe tbody tr th:only-of-type {\n",
       "        vertical-align: middle;\n",
       "    }\n",
       "\n",
       "    .dataframe tbody tr th {\n",
       "        vertical-align: top;\n",
       "    }\n",
       "\n",
       "    .dataframe thead th {\n",
       "        text-align: right;\n",
       "    }\n",
       "</style>\n",
       "<table border=\"1\" class=\"dataframe\">\n",
       "  <thead>\n",
       "    <tr style=\"text-align: right;\">\n",
       "      <th></th>\n",
       "      <th>j_w</th>\n",
       "      <th>j1_phirot</th>\n",
       "      <th>j_q</th>\n",
       "      <th>j_t</th>\n",
       "      <th>j1_etarot</th>\n",
       "      <th>j_g</th>\n",
       "      <th>j_index</th>\n",
       "      <th>j_z</th>\n",
       "      <th>j1_ptrel</th>\n",
       "    </tr>\n",
       "  </thead>\n",
       "  <tbody>\n",
       "    <tr>\n",
       "      <th>0</th>\n",
       "      <td>0</td>\n",
       "      <td>-0.201170</td>\n",
       "      <td>0</td>\n",
       "      <td>0</td>\n",
       "      <td>-0.068588</td>\n",
       "      <td>0</td>\n",
       "      <td>300003264.0</td>\n",
       "      <td>1</td>\n",
       "      <td>0.001060</td>\n",
       "    </tr>\n",
       "    <tr>\n",
       "      <th>1</th>\n",
       "      <td>0</td>\n",
       "      <td>-0.348590</td>\n",
       "      <td>0</td>\n",
       "      <td>1</td>\n",
       "      <td>-0.113826</td>\n",
       "      <td>0</td>\n",
       "      <td>400010240.0</td>\n",
       "      <td>0</td>\n",
       "      <td>0.000626</td>\n",
       "    </tr>\n",
       "    <tr>\n",
       "      <th>2</th>\n",
       "      <td>1</td>\n",
       "      <td>0.001577</td>\n",
       "      <td>0</td>\n",
       "      <td>0</td>\n",
       "      <td>0.003166</td>\n",
       "      <td>0</td>\n",
       "      <td>200017616.0</td>\n",
       "      <td>0</td>\n",
       "      <td>0.046280</td>\n",
       "    </tr>\n",
       "    <tr>\n",
       "      <th>3</th>\n",
       "      <td>0</td>\n",
       "      <td>-0.005436</td>\n",
       "      <td>0</td>\n",
       "      <td>0</td>\n",
       "      <td>-0.015675</td>\n",
       "      <td>1</td>\n",
       "      <td>12607.0</td>\n",
       "      <td>0</td>\n",
       "      <td>0.132881</td>\n",
       "    </tr>\n",
       "    <tr>\n",
       "      <th>4</th>\n",
       "      <td>0</td>\n",
       "      <td>-0.006246</td>\n",
       "      <td>0</td>\n",
       "      <td>1</td>\n",
       "      <td>-0.350233</td>\n",
       "      <td>0</td>\n",
       "      <td>400011040.0</td>\n",
       "      <td>0</td>\n",
       "      <td>0.001762</td>\n",
       "    </tr>\n",
       "    <tr>\n",
       "      <th>...</th>\n",
       "      <td>...</td>\n",
       "      <td>...</td>\n",
       "      <td>...</td>\n",
       "      <td>...</td>\n",
       "      <td>...</td>\n",
       "      <td>...</td>\n",
       "      <td>...</td>\n",
       "      <td>...</td>\n",
       "      <td>...</td>\n",
       "    </tr>\n",
       "    <tr>\n",
       "      <th>5119904</th>\n",
       "      <td>0</td>\n",
       "      <td>-0.104943</td>\n",
       "      <td>0</td>\n",
       "      <td>0</td>\n",
       "      <td>0.061939</td>\n",
       "      <td>1</td>\n",
       "      <td>6717.0</td>\n",
       "      <td>0</td>\n",
       "      <td>0.003359</td>\n",
       "    </tr>\n",
       "    <tr>\n",
       "      <th>5119905</th>\n",
       "      <td>1</td>\n",
       "      <td>-0.271796</td>\n",
       "      <td>0</td>\n",
       "      <td>0</td>\n",
       "      <td>0.003421</td>\n",
       "      <td>0</td>\n",
       "      <td>200000848.0</td>\n",
       "      <td>0</td>\n",
       "      <td>0.003650</td>\n",
       "    </tr>\n",
       "    <tr>\n",
       "      <th>5119906</th>\n",
       "      <td>0</td>\n",
       "      <td>-0.242324</td>\n",
       "      <td>0</td>\n",
       "      <td>0</td>\n",
       "      <td>-0.002743</td>\n",
       "      <td>0</td>\n",
       "      <td>300014656.0</td>\n",
       "      <td>1</td>\n",
       "      <td>0.022742</td>\n",
       "    </tr>\n",
       "    <tr>\n",
       "      <th>5119907</th>\n",
       "      <td>0</td>\n",
       "      <td>-0.163521</td>\n",
       "      <td>0</td>\n",
       "      <td>0</td>\n",
       "      <td>-0.199286</td>\n",
       "      <td>1</td>\n",
       "      <td>9068.0</td>\n",
       "      <td>0</td>\n",
       "      <td>0.002943</td>\n",
       "    </tr>\n",
       "    <tr>\n",
       "      <th>5119908</th>\n",
       "      <td>1</td>\n",
       "      <td>-0.001888</td>\n",
       "      <td>0</td>\n",
       "      <td>0</td>\n",
       "      <td>-0.003045</td>\n",
       "      <td>0</td>\n",
       "      <td>200011968.0</td>\n",
       "      <td>0</td>\n",
       "      <td>0.012377</td>\n",
       "    </tr>\n",
       "  </tbody>\n",
       "</table>\n",
       "<p>5119909 rows × 9 columns</p>\n",
       "</div>"
      ],
      "text/plain": [
       "         j_w  j1_phirot  j_q  j_t  j1_etarot  j_g      j_index  j_z  j1_ptrel\n",
       "0          0  -0.201170    0    0  -0.068588    0  300003264.0    1  0.001060\n",
       "1          0  -0.348590    0    1  -0.113826    0  400010240.0    0  0.000626\n",
       "2          1   0.001577    0    0   0.003166    0  200017616.0    0  0.046280\n",
       "3          0  -0.005436    0    0  -0.015675    1      12607.0    0  0.132881\n",
       "4          0  -0.006246    0    1  -0.350233    0  400011040.0    0  0.001762\n",
       "...      ...        ...  ...  ...        ...  ...          ...  ...       ...\n",
       "5119904    0  -0.104943    0    0   0.061939    1       6717.0    0  0.003359\n",
       "5119905    1  -0.271796    0    0   0.003421    0  200000848.0    0  0.003650\n",
       "5119906    0  -0.242324    0    0  -0.002743    0  300014656.0    1  0.022742\n",
       "5119907    0  -0.163521    0    0  -0.199286    1       9068.0    0  0.002943\n",
       "5119908    1  -0.001888    0    0  -0.003045    0  200011968.0    0  0.012377\n",
       "\n",
       "[5119909 rows x 9 columns]"
      ]
     },
     "execution_count": 3,
     "metadata": {},
     "output_type": "execute_result"
    }
   ],
   "source": [
    "f = h5py.File(options.inputFile, 'r')\n",
    "treeArray = f[options.tree][()]\n",
    "\n",
    "features = yamlConfig['Inputs']\n",
    "labels = yamlConfig['Labels']\n",
    "\n",
    "features_df = pd.DataFrame(treeArray,columns=list(set(features)))\n",
    "labels_df = pd.DataFrame(treeArray,columns=list(set(labels)))\n",
    "\n",
    "features_labels_df = pd.DataFrame(treeArray,columns = list(set(features + labels)))\n",
    "features_labels_df = features_labels_df.drop_duplicates()\n",
    "\n",
    "features_labels_df"
   ]
  },
  {
   "cell_type": "code",
   "execution_count": 4,
   "metadata": {},
   "outputs": [],
   "source": [
    "MaxParticles = 100\n",
    "BinsX = 40\n",
    "MinX = -0.8\n",
    "MaxX =  0.8\n",
    "BinsY = 40\n",
    "MinY = -1.0\n",
    "MaxY = 1.0\n",
    "\n",
    "# Convert to nparray\n",
    "labels_df = labels_df.drop_duplicates()\n",
    "features_val = features_df.drop(['j_index'],axis=1).values\n",
    "labels_val = labels_df.drop(['j_index'],axis=1).values\n",
    "\n",
    "# get features\n",
    "features_2dval = np.zeros((len(labels_df), BinsX, BinsY, 1))\n",
    "for i in range(0, len(labels_df)):\n",
    "    features_df_i = features_df[features_df['j_index'] == labels_df['j_index'].iloc[i]]\n",
    "    index_values = features_df_i.index.values\n",
    "\n",
    "    xbins = np.linspace(MinX, MaxX, BinsX + 1)\n",
    "    ybins = np.linspace(MinY, MaxY, BinsY + 1)\n",
    "\n",
    "    x = features_df_i[features[0]]\n",
    "    y = features_df_i[features[1]]\n",
    "    w = features_df_i[features[2]]\n",
    "\n",
    "    hist, xedges, yedges = np.histogram2d(x, y, weights=w, bins=(xbins, ybins))\n",
    "\n",
    "    for ix in range(0, BinsX):\n",
    "        for iy in range(0, BinsY):\n",
    "            features_2dval[i, ix, iy, 0] = hist[ix, iy]\n",
    "features_val = features_2dval"
   ]
  },
  {
   "cell_type": "code",
   "execution_count": 5,
   "metadata": {},
   "outputs": [],
   "source": [
    "X_train_val, X_test, y_train_val, y_test = train_test_split(features_val, labels_val, test_size=0.2,\n",
    "                                                                random_state=42)"
   ]
  },
  {
   "cell_type": "markdown",
   "metadata": {},
   "source": [
    "# CNN2D model"
   ]
  },
  {
   "cell_type": "code",
   "execution_count": 6,
   "metadata": {},
   "outputs": [
    {
     "name": "stdout",
     "output_type": "stream",
     "text": [
      "Model: \"sequential\"\n",
      "_________________________________________________________________\n",
      "Layer (type)                 Output Shape              Param #   \n",
      "=================================================================\n",
      "conv2_relu_1 (Conv2D)        (None, 40, 40, 8)         976       \n",
      "_________________________________________________________________\n",
      "conv2_relu_2 (Conv2D)        (None, 20, 20, 4)         292       \n",
      "_________________________________________________________________\n",
      "conv2_relu_3 (Conv2D)        (None, 10, 10, 2)         74        \n",
      "_________________________________________________________________\n",
      "flatten (Flatten)            (None, 200)               0         \n",
      "_________________________________________________________________\n",
      "dense (Dense)                (None, 32)                6432      \n",
      "_________________________________________________________________\n",
      "output_softmax (Dense)       (None, 5)                 165       \n",
      "=================================================================\n",
      "Total params: 7,939\n",
      "Trainable params: 7,939\n",
      "Non-trainable params: 0\n",
      "_________________________________________________________________\n"
     ]
    }
   ],
   "source": [
    "l1Reg = 0.0001\n",
    "\n",
    "model = models.Sequential()\n",
    "model.add(layers.Conv2D(filters=8, kernel_size=(11,11), strides=1, padding='same',\n",
    "               kernel_initializer='he_normal', use_bias=True, name='conv2_relu_1',\n",
    "               activation = 'relu', kernel_regularizer=l1(l1Reg),input_shape=(40,40, 1)))\n",
    "model.add(layers.Conv2D(filters=4, kernel_size=(3,3), strides=2, padding='same',\n",
    "               kernel_initializer='he_normal', use_bias=True, name='conv2_relu_2',\n",
    "               activation = 'relu', kernel_regularizer=l1(l1Reg)))\n",
    "model.add(layers.Conv2D(filters=2, kernel_size=(3,3), strides=2, padding='same',\n",
    "               kernel_initializer='he_normal', use_bias=True, name='conv2_relu_3',\n",
    "               activation = 'relu', kernel_regularizer=l1(l1Reg)))\n",
    "model.add(layers.Flatten())\n",
    "model.add(layers.Dense(32, activation='relu'))\n",
    "model.add(layers.Dense(5, activation='softmax', kernel_initializer='lecun_uniform', \n",
    "                        name='output_softmax', kernel_regularizer=l1(l1Reg)))\n",
    "\n",
    "model.summary()"
   ]
  },
  {
   "cell_type": "code",
   "execution_count": 7,
   "metadata": {},
   "outputs": [],
   "source": [
    "adam = Adam(lr = 0.0001)\n",
    "model.compile(optimizer='adam', loss='categorical_crossentropy', metrics=['accuracy'])"
   ]
  },
  {
   "cell_type": "code",
   "execution_count": 8,
   "metadata": {},
   "outputs": [
    {
     "name": "stdout",
     "output_type": "stream",
     "text": [
      "Epoch 1/15\n",
      "15/15 [==============================] - 8s 538ms/step - loss: 1.5809 - accuracy: 0.7610 - val_loss: 1.4650 - val_accuracy: 0.8539\n",
      "Epoch 2/15\n",
      "15/15 [==============================] - 7s 498ms/step - loss: 1.2030 - accuracy: 0.8616 - val_loss: 0.7621 - val_accuracy: 0.8684\n",
      "Epoch 3/15\n",
      "15/15 [==============================] - 8s 500ms/step - loss: 0.5280 - accuracy: 0.8586 - val_loss: 0.3329 - val_accuracy: 0.8469\n",
      "Epoch 4/15\n",
      "15/15 [==============================] - 8s 509ms/step - loss: 0.2498 - accuracy: 0.9171 - val_loss: 0.1720 - val_accuracy: 0.9629\n",
      "Epoch 5/15\n",
      "15/15 [==============================] - 8s 538ms/step - loss: 0.1294 - accuracy: 0.9864 - val_loss: 0.0962 - val_accuracy: 0.9990\n",
      "Epoch 6/15\n",
      "15/15 [==============================] - 8s 541ms/step - loss: 0.0733 - accuracy: 0.9996 - val_loss: 0.0581 - val_accuracy: 0.9996\n",
      "Epoch 7/15\n",
      "15/15 [==============================] - 8s 515ms/step - loss: 0.0458 - accuracy: 0.9997 - val_loss: 0.0412 - val_accuracy: 0.9994\n",
      "Epoch 8/15\n",
      "15/15 [==============================] - 8s 504ms/step - loss: 0.0337 - accuracy: 0.9998 - val_loss: 0.0342 - val_accuracy: 0.9994\n",
      "Epoch 9/15\n",
      "15/15 [==============================] - 8s 508ms/step - loss: 0.0282 - accuracy: 0.9998 - val_loss: 0.0308 - val_accuracy: 0.9994\n",
      "Epoch 10/15\n",
      "15/15 [==============================] - 8s 528ms/step - loss: 0.0254 - accuracy: 0.9998 - val_loss: 0.0291 - val_accuracy: 0.9996\n",
      "Epoch 11/15\n",
      "15/15 [==============================] - 8s 513ms/step - loss: 0.0239 - accuracy: 0.9998 - val_loss: 0.0282 - val_accuracy: 0.9994\n",
      "Epoch 12/15\n",
      "15/15 [==============================] - 8s 525ms/step - loss: 0.0229 - accuracy: 0.9998 - val_loss: 0.0277 - val_accuracy: 0.9994\n",
      "Epoch 13/15\n",
      "15/15 [==============================] - 8s 510ms/step - loss: 0.0222 - accuracy: 0.9999 - val_loss: 0.0272 - val_accuracy: 0.9994\n",
      "Epoch 14/15\n",
      "15/15 [==============================] - 8s 502ms/step - loss: 0.0217 - accuracy: 0.9999 - val_loss: 0.0270 - val_accuracy: 0.9996\n",
      "Epoch 15/15\n",
      "15/15 [==============================] - 7s 498ms/step - loss: 0.0213 - accuracy: 0.9999 - val_loss: 0.0268 - val_accuracy: 0.9994\n"
     ]
    }
   ],
   "source": [
    "history = model.fit(X_train_val, y_train_val, batch_size = 1024, epochs = 15, \n",
    "                    validation_split = 0.25, shuffle = True, callbacks = None,\n",
    "                    use_multiprocessing=True, workers=4)"
   ]
  },
  {
   "cell_type": "markdown",
   "metadata": {},
   "source": [
    "TEST"
   ]
  },
  {
   "cell_type": "code",
   "execution_count": 13,
   "metadata": {},
   "outputs": [
    {
     "data": {
      "image/png": "[encoded data removed]",
      "text/plain": [
       "<Figure size 720x576 with 1 Axes>"
      ]
     },
     "metadata": {
      "needs_background": "light"
     },
     "output_type": "display_data"
    }
   ],
   "source": [
    "def makeRoc(features_val, labels_val, labels, model, outputDir='', outputSuffix=''):\n",
    "    from sklearn.metrics import roc_curve, auc\n",
    "    labels_pred = model.predict(features_val)\n",
    "    df = pd.DataFrame()\n",
    "    fpr = {}\n",
    "    tpr = {}\n",
    "    auc1 = {}\n",
    "    plt.figure(figsize=(10,8))       \n",
    "    for i, label in enumerate(labels):\n",
    "        df[label] = labels_val[:,i]\n",
    "        df[label + '_pred'] = labels_pred[:,i]\n",
    "        fpr[label], tpr[label], threshold = roc_curve(df[label],df[label+'_pred'])\n",
    "        auc1[label] = auc(fpr[label], tpr[label])\n",
    "        plt.plot(fpr[label],tpr[label],label='%s tagger, AUC = %.1f%%'%(label.replace('j_',''),auc1[label]*100.))\n",
    "    plt.plot([0, 1], [0, 1], lw=1, color='black', linestyle='--')\n",
    "    #plt.semilogy()\n",
    "    plt.xlabel(\"Background Efficiency\")\n",
    "    plt.ylabel(\"Signal Efficiency\")\n",
    "    plt.xlim([-0.05, 1.05])\n",
    "    plt.ylim(0.001,1.05)\n",
    "    plt.grid(True)\n",
    "    plt.legend(loc='lower right')\n",
    "    plt.figtext(0.25, 0.90,'CNN2D Curve',fontweight='bold', wrap=True, horizontalalignment='right', fontsize=14)\n",
    "    #plt.figtext(0.35, 0.90,'preliminary', style='italic', wrap=True, horizontalalignment='center', fontsize=14) \n",
    "    #plt.savefig('%sROC_%s.pdf'%(outputDir, outputSuffix))\n",
    "    return labels_pred\n",
    "y_pred = makeRoc(X_test, y_test, labels, model, outputSuffix='CNN2D')"
   ]
  },
  {
   "cell_type": "code",
   "execution_count": 11,
   "metadata": {},
   "outputs": [
    {
     "data": {
      "text/plain": [
       "Text(0.25, 0.9, 'Conv_1d_notebook_version')"
      ]
     },
     "execution_count": 11,
     "metadata": {},
     "output_type": "execute_result"
    },
    {
     "data": {
      "image/png": "[encoded data removed]",
      "text/plain": [
       "<Figure size 432x288 with 1 Axes>"
      ]
     },
     "metadata": {
      "needs_background": "light"
     },
     "output_type": "display_data"
    }
   ],
   "source": [
    "if 'j_index' in labels: labels.remove('j_index')\n",
    "\n",
    "predict_test = model.predict(X_test)\n",
    "\n",
    "df = pd.DataFrame()\n",
    "\n",
    "fpr = {}\n",
    "tpr = {}\n",
    "auc1 = {}\n",
    "\n",
    "plt.figure()       \n",
    "for i, label in enumerate(labels):\n",
    "    df[label] = y_test[:,i]\n",
    "    df[label + '_pred'] = predict_test[:,i]\n",
    "\n",
    "    fpr[label], tpr[label], threshold = roc_curve(df[label],df[label+'_pred'])\n",
    "\n",
    "    auc1[label] = auc(fpr[label], tpr[label])\n",
    "\n",
    "    plt.plot(tpr[label],fpr[label],label='%s tagger, AUC = %.1f%%'%(label.replace('j_',''),auc1[label]*100.))\n",
    "plt.semilogy()\n",
    "plt.xlabel(\"Signal Efficiency\")\n",
    "plt.ylabel(\"Background Efficiency\")\n",
    "plt.ylim(0.001,1)\n",
    "plt.grid(True)\n",
    "plt.legend(loc='upper left')\n",
    "plt.figtext(0.25, 0.90,'Conv_1d_notebook_version',fontweight='bold', wrap=True, horizontalalignment='right', fontsize=14)\n"
   ]
  },
  {
   "cell_type": "code",
   "execution_count": 12,
   "metadata": {},
   "outputs": [
    {
     "data": {
      "image/png": "[encoded data removed]",
      "text/plain": [
       "<Figure size 720x576 with 1 Axes>"
      ]
     },
     "metadata": {
      "needs_background": "light"
     },
     "output_type": "display_data"
    }
   ],
   "source": [
    "def learningCurve(history):\n",
    "    plt.figure(figsize=(10,8))\n",
    "    plt.plot(history.history['loss'], linewidth=1)\n",
    "    plt.plot(history.history['val_loss'], linewidth=1)\n",
    "    plt.title('Model Loss over Epochs')\n",
    "    plt.ylabel('Loss')\n",
    "    plt.xlabel('Epoch')\n",
    "    plt.legend(['training sample loss','validation sample loss'])\n",
    "    plt.savefig('Learning_curve.pdf')\n",
    "    plt.show()\n",
    "    plt.close()\n",
    "\n",
    "learningCurve(history)"
   ]
  },
  {
   "cell_type": "code",
   "execution_count": null,
   "metadata": {},
   "outputs": [],
   "source": []
  },
  {
   "cell_type": "code",
   "execution_count": null,
   "metadata": {},
   "outputs": [],
   "source": []
  },
  {
   "cell_type": "code",
   "execution_count": null,
   "metadata": {},
   "outputs": [],
   "source": []
  }
 ],
 "metadata": {
  "kernelspec": {
   "display_name": "Python 3",
   "language": "python",
   "name": "python3"
  },
  "language_info": {
   "codemirror_mode": {
    "name": "ipython",
    "version": 3
   },
   "file_extension": ".py",
   "mimetype": "text/x-python",
   "name": "python",
   "nbconvert_exporter": "python",
   "pygments_lexer": "ipython3",
   "version": "3.6.10"
  }
 },
 "nbformat": 4,
 "nbformat_minor": 4
}
