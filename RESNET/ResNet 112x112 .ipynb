{
 "cells": [
  {
   "cell_type": "markdown",
   "metadata": {},
   "source": [
    "# Top tagging model with ResNet-50 "
   ]
  },
  {
   "cell_type": "markdown",
   "metadata": {},
   "source": [
    "This is a training script about using top tagging data to train a ResNet-50 Neuron Network. <br>\n",
    "The training is base on Keras and using tensorflow backend to run."
   ]
  },
  {
   "cell_type": "markdown",
   "metadata": {},
   "source": [
    "## Import necessary package and do gpu test."
   ]
  },
  {
   "cell_type": "code",
   "execution_count": 1,
   "metadata": {},
   "outputs": [
    {
     "name": "stderr",
     "output_type": "stream",
     "text": [
      "Using TensorFlow backend.\n"
     ]
    }
   ],
   "source": [
    "import numpy as np\n",
    "import matplotlib.pyplot as plt \n",
    "import pandas as pd \n",
    "\n",
    "import h5py \n",
    "import os\n",
    "from keras.utils import np_utils\n",
    "import tensorflow as tf\n",
    "from tqdm import tqdm\n"
   ]
  },
  {
   "cell_type": "markdown",
   "metadata": {},
   "source": [
    "## Input data with H5py package\n",
    "Input data size: 1 channel image with shape 224x224. <br>\n",
    "Input label size: 1 or 0 with onehot encoding. <br>\n",
    "\\# of input data(train(with val), test): 30000,6000"
   ]
  },
  {
   "cell_type": "code",
   "execution_count": 2,
   "metadata": {},
   "outputs": [],
   "source": [
    "f = h5py.File('data/processed-pythia82-lhc13-all-pt1-50k-r1_h022_e0175_t220_nonu_withPars_truth_0.z', 'r')\n",
    "treeArray = f['t_allpar_new'][()]\n",
    "features = ['j1_etarot', 'j1_phirot','j_index']\n",
    "labels = ['j_g', 'j_q', 'j_w', 'j_z', 'j_t', 'j_index']\n"
   ]
  },
  {
   "cell_type": "code",
   "execution_count": 3,
   "metadata": {},
   "outputs": [],
   "source": [
    "#features_df = pd.DataFrame(treeArray,columns=list(set(features)))\n",
    "#labels_df = pd.DataFrame(treeArray,columns=list(set(labels)))\n",
    "\n",
    "features_labels_df = pd.DataFrame(treeArray,columns = list(set(features + labels)))\n",
    "features_labels_df = features_labels_df.drop_duplicates()\n",
    "\n",
    "features_labels_df = features_labels_df.head(n = 1500000)\n",
    "features_df = features_labels_df[features]\n",
    "labels_df = features_labels_df[labels]"
   ]
  },
  {
   "cell_type": "code",
   "execution_count": 4,
   "metadata": {},
   "outputs": [],
   "source": [
    "#features_labels_df = features_labels_df.head(n = 300000)\n",
    "#features_df = features_labels_df[features].head(n = 300000)\n",
    "#labels_df = features_labels_df[labels].head(n = 300000)"
   ]
  },
  {
   "cell_type": "code",
   "execution_count": 5,
   "metadata": {},
   "outputs": [
    {
     "name": "stderr",
     "output_type": "stream",
     "text": [
      "100%|███████████████████████████████████████████████████████████████████████████| 28784/28784 [03:53<00:00, 123.23it/s]\n"
     ]
    }
   ],
   "source": [
    "MaxParticles = 40\n",
    "BinsX = 112\n",
    "MinX = -0.8\n",
    "MaxX =  0.8\n",
    "BinsY = 112\n",
    "MinY = -1.0\n",
    "MaxY = 1.0\n",
    "\n",
    "# Convert to nparray\n",
    "labels_df = labels_df.drop_duplicates()\n",
    "features_val = features_df.drop(['j_index'],axis=1).values\n",
    "labels_val = labels_df.drop(['j_index'],axis=1).values\n",
    "\n",
    "# get features\n",
    "features_2dval = np.zeros((len(labels_df), BinsX, BinsY))\n",
    "for i in tqdm(range(0, len(labels_df))):\n",
    "    features_df_i = features_df[features_df['j_index'] == labels_df['j_index'].iloc[i]]\n",
    "    index_values = features_df_i.index.values\n",
    "\n",
    "    xbins = np.linspace(MinX, MaxX, BinsX + 1)\n",
    "    ybins = np.linspace(MinY, MaxY, BinsY + 1)\n",
    "\n",
    "    x = features_df_i[features[0]]\n",
    "    y = features_df_i[features[1]]\n",
    "    w = features_df_i[features[2]]\n",
    "\n",
    "    hist, xedges, yedges = np.histogram2d(x, y, weights=w, bins=(xbins, ybins))\n",
    "\n",
    "    for ix in range(0, BinsX):\n",
    "        for iy in range(0, BinsY):\n",
    "            features_2dval[i, ix, iy] = hist[ix, iy]\n",
    "features_val = features_2dval"
   ]
  },
  {
   "cell_type": "code",
   "execution_count": 6,
   "metadata": {},
   "outputs": [
    {
     "data": {
      "text/plain": [
       "(28784, 112, 112)"
      ]
     },
     "execution_count": 6,
     "metadata": {},
     "output_type": "execute_result"
    }
   ],
   "source": [
    "features_val.shape"
   ]
  },
  {
   "cell_type": "code",
   "execution_count": 7,
   "metadata": {},
   "outputs": [],
   "source": [
    "\n",
    "images = np.stack([features_val, features_val, features_val],axis= -1)\n",
    "label = labels_val"
   ]
  },
  {
   "cell_type": "code",
   "execution_count": 8,
   "metadata": {},
   "outputs": [
    {
     "data": {
      "text/plain": [
       "(28784, 112, 112, 3)"
      ]
     },
     "execution_count": 8,
     "metadata": {},
     "output_type": "execute_result"
    }
   ],
   "source": [
    "images.shape"
   ]
  },
  {
   "cell_type": "code",
   "execution_count": 9,
   "metadata": {},
   "outputs": [],
   "source": [
    "from sklearn.model_selection import train_test_split\n",
    "X_train_val, X_test, y_train_val, y_test = train_test_split(images, label, test_size=0.2,\n",
    "                                                                random_state=42)"
   ]
  },
  {
   "cell_type": "code",
   "execution_count": 10,
   "metadata": {},
   "outputs": [
    {
     "data": {
      "text/plain": [
       "(23027, 112, 112, 3)"
      ]
     },
     "execution_count": 10,
     "metadata": {},
     "output_type": "execute_result"
    }
   ],
   "source": [
    "X_train_val.shape"
   ]
  },
  {
   "cell_type": "code",
   "execution_count": 11,
   "metadata": {},
   "outputs": [
    {
     "data": {
      "text/plain": [
       "(5757, 112, 112, 3)"
      ]
     },
     "execution_count": 11,
     "metadata": {},
     "output_type": "execute_result"
    }
   ],
   "source": [
    "X_test.shape"
   ]
  },
  {
   "cell_type": "code",
   "execution_count": 12,
   "metadata": {},
   "outputs": [],
   "source": [
    "del features_val\n",
    "del features_df\n",
    "del labels_df\n",
    "del images\n",
    "del label"
   ]
  },
  {
   "cell_type": "code",
   "execution_count": null,
   "metadata": {},
   "outputs": [],
   "source": []
  },
  {
   "cell_type": "code",
   "execution_count": null,
   "metadata": {},
   "outputs": [],
   "source": []
  },
  {
   "cell_type": "code",
   "execution_count": null,
   "metadata": {},
   "outputs": [],
   "source": []
  },
  {
   "cell_type": "code",
   "execution_count": null,
   "metadata": {},
   "outputs": [],
   "source": []
  },
  {
   "cell_type": "code",
   "execution_count": null,
   "metadata": {},
   "outputs": [],
   "source": []
  },
  {
   "cell_type": "markdown",
   "metadata": {},
   "source": [
    "## Construsting a sequential \n",
    "Construst a model with Keras pre-configured ResNet-50 and one Dense layer with Softmax activation function. <br>\n",
    "Using Earlystopping and custom callback function to prevent training from overfitting and collect ROC/AUC data point. "
   ]
  },
  {
   "cell_type": "code",
   "execution_count": null,
   "metadata": {},
   "outputs": [],
   "source": []
  },
  {
   "cell_type": "code",
   "execution_count": 25,
   "metadata": {},
   "outputs": [
    {
     "name": "stdout",
     "output_type": "stream",
     "text": [
      "Model: \"sequential_1\"\n",
      "_________________________________________________________________\n",
      "Layer (type)                 Output Shape              Param #   \n",
      "=================================================================\n",
      "resnet50 (Model)             (None, 2048)              27784064  \n",
      "_________________________________________________________________\n",
      "dense_2 (Dense)              (None, 1024)              2098176   \n",
      "_________________________________________________________________\n",
      "flatten_1 (Flatten)          (None, 1024)              0         \n",
      "_________________________________________________________________\n",
      "dense_3 (Dense)              (None, 5)                 5125      \n",
      "=================================================================\n",
      "Total params: 29,887,365\n",
      "Trainable params: 29,834,245\n",
      "Non-trainable params: 53,120\n",
      "_________________________________________________________________\n"
     ]
    }
   ],
   "source": [
    "model = tf.keras.models.Sequential([\n",
    "tf.keras.applications.ResNet50(weights=None, pooling='max',classes=2048,input_shape=(112,112,3)),\n",
    "tf.keras.layers.Dense(1024,activation='relu'),\n",
    "tf.keras.layers.Flatten(),\n",
    "tf.keras.layers.Dense(5, activation='softmax'),\n",
    "])\n",
    "model.summary()\n",
    "\n"
   ]
  },
  {
   "cell_type": "code",
   "execution_count": 26,
   "metadata": {},
   "outputs": [],
   "source": [
    "from tensorflow.keras.optimizers import Adam\n",
    "adam = Adam(lr = 0.0001)\n",
    "#model.compile(optimizer='adam', loss='categorical_crossentropy', metrics=['accuracy'])\n",
    "model.compile(optimizer='adam', loss='binary_crossentropy',metrics=[tf.keras.metrics.AUC(num_thresholds=200, curve='ROC')])"
   ]
  },
  {
   "cell_type": "code",
   "execution_count": 27,
   "metadata": {},
   "outputs": [
    {
     "name": "stdout",
     "output_type": "stream",
     "text": [
      "Train on 17270 samples, validate on 5757 samples\n",
      "Epoch 1/50\n",
      "17270/17270 [==============================] - 58s 3ms/sample - loss: 0.2991 - auc_1: 0.9111 - val_loss: 1.0032 - val_auc_1: 0.6396\n",
      "Epoch 2/50\n",
      "17270/17270 [==============================] - 50s 3ms/sample - loss: 0.1028 - auc_1: 0.9870 - val_loss: 1.5108 - val_auc_1: 0.5023\n",
      "Epoch 3/50\n",
      "17270/17270 [==============================] - 51s 3ms/sample - loss: 0.0589 - auc_1: 0.9943 - val_loss: 1.5929 - val_auc_1: 0.5023\n",
      "Epoch 4/50\n",
      "17270/17270 [==============================] - 51s 3ms/sample - loss: 0.1003 - auc_1: 0.9826 - val_loss: 1.6172 - val_auc_1: 0.4986\n",
      "Epoch 5/50\n",
      "17270/17270 [==============================] - 51s 3ms/sample - loss: 0.0420 - auc_1: 0.9968 - val_loss: 1.7133 - val_auc_1: 0.5030\n",
      "Epoch 6/50\n",
      "17270/17270 [==============================] - 50s 3ms/sample - loss: 0.0365 - auc_1: 0.9975 - val_loss: 0.6878 - val_auc_1: 0.7643\n",
      "Epoch 7/50\n",
      "17270/17270 [==============================] - 51s 3ms/sample - loss: 0.0300 - auc_1: 0.9979 - val_loss: 0.3866 - val_auc_1: 0.9630\n",
      "Epoch 8/50\n",
      "17270/17270 [==============================] - 50s 3ms/sample - loss: 0.0241 - auc_1: 0.9980 - val_loss: 0.0186 - val_auc_1: 0.9989\n",
      "Epoch 9/50\n",
      "17270/17270 [==============================] - 49s 3ms/sample - loss: 0.0222 - auc_1: 0.9986 - val_loss: 0.5046 - val_auc_1: 0.8511\n",
      "Epoch 10/50\n",
      "17270/17270 [==============================] - 49s 3ms/sample - loss: 0.0263 - auc_1: 0.9981 - val_loss: 1.3321 - val_auc_1: 0.6508\n",
      "Epoch 11/50\n",
      "17270/17270 [==============================] - 49s 3ms/sample - loss: 0.0311 - auc_1: 0.9970 - val_loss: 0.1345 - val_auc_1: 0.9859\n",
      "Epoch 12/50\n",
      "17270/17270 [==============================] - 49s 3ms/sample - loss: 0.0298 - auc_1: 0.9973 - val_loss: 0.7140 - val_auc_1: 0.9133\n",
      "Epoch 13/50\n",
      "17270/17270 [==============================] - 49s 3ms/sample - loss: 0.0193 - auc_1: 0.9987 - val_loss: 0.8441 - val_auc_1: 0.8191\n",
      "Epoch 14/50\n",
      "17270/17270 [==============================] - 49s 3ms/sample - loss: 0.0258 - auc_1: 0.9976 - val_loss: 0.8392 - val_auc_1: 0.7953\n",
      "Epoch 15/50\n",
      "17270/17270 [==============================] - 49s 3ms/sample - loss: 0.0162 - auc_1: 0.9985 - val_loss: 0.6713 - val_auc_1: 0.8303\n",
      "Epoch 16/50\n",
      "17270/17270 [==============================] - 50s 3ms/sample - loss: 0.0108 - auc_1: 0.9990 - val_loss: 0.0924 - val_auc_1: 0.9814\n",
      "Epoch 17/50\n",
      "17270/17270 [==============================] - 50s 3ms/sample - loss: 0.0129 - auc_1: 0.9987 - val_loss: 0.7006 - val_auc_1: 0.8546\n",
      "Epoch 18/50\n",
      "17270/17270 [==============================] - 49s 3ms/sample - loss: 0.0183 - auc_1: 0.9983 - val_loss: 0.0363 - val_auc_1: 0.9981\n",
      "Epoch 19/50\n",
      "17270/17270 [==============================] - 49s 3ms/sample - loss: 0.0133 - auc_1: 0.9983 - val_loss: 1.7941 - val_auc_1: 0.6027\n",
      "Epoch 20/50\n",
      "17270/17270 [==============================] - 49s 3ms/sample - loss: 0.0135 - auc_1: 0.9985 - val_loss: 0.0335 - val_auc_1: 0.9946\n",
      "Epoch 21/50\n",
      "17270/17270 [==============================] - 49s 3ms/sample - loss: 0.0127 - auc_1: 0.9989 - val_loss: 1.0047 - val_auc_1: 0.8103\n",
      "Epoch 22/50\n",
      "17270/17270 [==============================] - 49s 3ms/sample - loss: 0.0102 - auc_1: 0.9990 - val_loss: 0.7467 - val_auc_1: 0.8471\n",
      "Epoch 23/50\n",
      "17270/17270 [==============================] - 49s 3ms/sample - loss: 0.0112 - auc_1: 0.9988 - val_loss: 0.6514 - val_auc_1: 0.8613\n",
      "Epoch 24/50\n",
      "17270/17270 [==============================] - 49s 3ms/sample - loss: 0.0110 - auc_1: 0.9983 - val_loss: 0.2745 - val_auc_1: 0.9368\n",
      "Epoch 25/50\n",
      "17270/17270 [==============================] - 49s 3ms/sample - loss: 0.0115 - auc_1: 0.9986 - val_loss: 0.0384 - val_auc_1: 0.9978\n",
      "Epoch 26/50\n",
      "17270/17270 [==============================] - 49s 3ms/sample - loss: 0.0118 - auc_1: 0.9988 - val_loss: 0.9955 - val_auc_1: 0.7783\n",
      "Epoch 27/50\n",
      "17270/17270 [==============================] - 49s 3ms/sample - loss: 0.0068 - auc_1: 0.9993 - val_loss: 0.0106 - val_auc_1: 0.9981\n",
      "Epoch 28/50\n",
      "17270/17270 [==============================] - 49s 3ms/sample - loss: 0.0104 - auc_1: 0.9987 - val_loss: 0.0165 - val_auc_1: 0.9996\n",
      "Epoch 29/50\n",
      "17270/17270 [==============================] - 49s 3ms/sample - loss: 0.0060 - auc_1: 0.9995 - val_loss: 0.0100 - val_auc_1: 0.9985\n",
      "Epoch 30/50\n",
      "17270/17270 [==============================] - 49s 3ms/sample - loss: 0.0072 - auc_1: 0.9992 - val_loss: 1.4769 - val_auc_1: 0.7204\n",
      "Epoch 31/50\n",
      "17270/17270 [==============================] - 49s 3ms/sample - loss: 0.0051 - auc_1: 0.9993 - val_loss: 1.9493 - val_auc_1: 0.6346\n",
      "Epoch 32/50\n",
      "17270/17270 [==============================] - 49s 3ms/sample - loss: 0.0085 - auc_1: 0.9991 - val_loss: 1.3441 - val_auc_1: 0.7225\n",
      "Epoch 33/50\n",
      "17270/17270 [==============================] - 49s 3ms/sample - loss: 0.0085 - auc_1: 0.9990 - val_loss: 1.6172 - val_auc_1: 0.6450\n",
      "Epoch 34/50\n",
      "17270/17270 [==============================] - 49s 3ms/sample - loss: 0.0066 - auc_1: 0.9994 - val_loss: 0.0090 - val_auc_1: 0.9995\n",
      "Epoch 35/50\n",
      "17270/17270 [==============================] - 49s 3ms/sample - loss: 0.0398 - auc_1: 0.9970 - val_loss: 1.1403 - val_auc_1: 0.7363\n",
      "Epoch 36/50\n",
      "17270/17270 [==============================] - 49s 3ms/sample - loss: 0.0088 - auc_1: 0.9993 - val_loss: 1.2113 - val_auc_1: 0.7428\n",
      "Epoch 37/50\n",
      "17270/17270 [==============================] - 49s 3ms/sample - loss: 0.0055 - auc_1: 0.9995 - val_loss: 1.8957 - val_auc_1: 0.5920\n",
      "Epoch 38/50\n",
      "17270/17270 [==============================] - 49s 3ms/sample - loss: 0.0022 - auc_1: 1.0000 - val_loss: 0.0687 - val_auc_1: 0.9930\n",
      "Epoch 39/50\n",
      "17270/17270 [==============================] - 49s 3ms/sample - loss: 0.0017 - auc_1: 1.0000 - val_loss: 0.8350 - val_auc_1: 0.8663\n",
      "Epoch 40/50\n",
      "17270/17270 [==============================] - 49s 3ms/sample - loss: 0.0017 - auc_1: 0.9999 - val_loss: 0.0125 - val_auc_1: 0.9987\n",
      "Epoch 41/50\n",
      "17270/17270 [==============================] - 49s 3ms/sample - loss: 0.0024 - auc_1: 0.9997 - val_loss: 1.3007 - val_auc_1: 0.7851\n",
      "Epoch 42/50\n",
      "17270/17270 [==============================] - 49s 3ms/sample - loss: 0.0022 - auc_1: 0.9997 - val_loss: 0.1417 - val_auc_1: 0.9815\n",
      "Epoch 43/50\n",
      "17270/17270 [==============================] - 49s 3ms/sample - loss: 0.0016 - auc_1: 0.9999 - val_loss: 0.1889 - val_auc_1: 0.9731\n",
      "Epoch 44/50\n",
      "17270/17270 [==============================] - 49s 3ms/sample - loss: 0.0068 - auc_1: 0.9993 - val_loss: 0.0184 - val_auc_1: 0.9970\n",
      "Epoch 45/50\n",
      "17270/17270 [==============================] - 49s 3ms/sample - loss: 0.0025 - auc_1: 1.0000 - val_loss: 0.0083 - val_auc_1: 0.9986\n",
      "Epoch 46/50\n",
      "17270/17270 [==============================] - 49s 3ms/sample - loss: 0.0045 - auc_1: 0.9996 - val_loss: 0.4096 - val_auc_1: 0.9276\n",
      "Epoch 47/50\n",
      "17270/17270 [==============================] - 49s 3ms/sample - loss: 0.0016 - auc_1: 0.9999 - val_loss: 0.0028 - val_auc_1: 0.9997\n",
      "Epoch 48/50\n",
      "17270/17270 [==============================] - 49s 3ms/sample - loss: 4.2691e-04 - auc_1: 1.0000 - val_loss: 0.2282 - val_auc_1: 0.9659\n",
      "Epoch 49/50\n",
      "17270/17270 [==============================] - 49s 3ms/sample - loss: 0.0012 - auc_1: 0.9999 - val_loss: 0.1340 - val_auc_1: 0.9893\n",
      "Epoch 50/50\n",
      "17270/17270 [==============================] - 49s 3ms/sample - loss: 0.0036 - auc_1: 0.9997 - val_loss: 0.0069 - val_auc_1: 0.9991\n"
     ]
    }
   ],
   "source": [
    "history = model.fit(X_train_val, y_train_val, batch_size = 128, epochs = 50, \n",
    "                    validation_split = 0.25, shuffle = True, callbacks = None,\n",
    "                    use_multiprocessing=True, workers=4)\n"
   ]
  },
  {
   "cell_type": "markdown",
   "metadata": {},
   "source": [
    "## Define function to visualize learning curve and prediction. <br><br>"
   ]
  },
  {
   "cell_type": "code",
   "execution_count": 28,
   "metadata": {},
   "outputs": [
    {
     "name": "stdout",
     "output_type": "stream",
     "text": [
      "(5757, 5)\n"
     ]
    },
    {
     "data": {
      "text/plain": [
       "(5757, 112, 112, 3)"
      ]
     },
     "execution_count": 28,
     "metadata": {},
     "output_type": "execute_result"
    }
   ],
   "source": [
    "print(y_test.shape)\n",
    "X_test.shape"
   ]
  },
  {
   "cell_type": "code",
   "execution_count": 29,
   "metadata": {},
   "outputs": [],
   "source": [
    "def makeRoc(features_val, labels_val, labels, model, outputDir='', outputSuffix=''):\n",
    "    from sklearn.metrics import roc_curve, auc\n",
    "    labels_pred = model.predict(features_val)\n",
    "    df = pd.DataFrame()\n",
    "    fpr = {}\n",
    "    tpr = {}\n",
    "    auc1 = {}\n",
    "    plt.figure(figsize=(10,8))\n",
    "    for i, label in enumerate(labels):\n",
    "        df[label] = labels_val[:,i-1]\n",
    "        df[label + '_pred'] = labels_pred[:,i-1]\n",
    "        fpr[label], tpr[label], threshold = roc_curve(df[label],df[label+'_pred'])\n",
    "        auc1[label] = auc(fpr[label], tpr[label])\n",
    "        plt.plot(fpr[label],tpr[label],label='%s tagger, AUC = %.1f%%'%(label.replace('j_',''),auc1[label]*100.))\n",
    "    plt.plot([0, 1], [0, 1], lw=1, color='black', linestyle='--')\n",
    "    #plt.semilogy()\n",
    "    plt.xlabel(\"Background Efficiency\")\n",
    "    plt.ylabel(\"Signal Efficiency\")\n",
    "    plt.xlim([-0.05, 1.05])\n",
    "    plt.ylim(0.001,1.05)\n",
    "    plt.grid(True)\n",
    "    plt.legend(loc='lower right')\n",
    "    plt.figtext(0.25, 0.90,'ResNet ROC Curve',fontweight='bold', wrap=True, horizontalalignment='right', fontsize=14)\n",
    "    #plt.figtext(0.35, 0.90,'preliminary', style='italic', wrap=True, horizontalalignment='center', fontsize=14) \n",
    "    #plt.savefig('%sROC_%s.pdf'%(outputDir, outputSuffix))\n",
    "    return labels_pred"
   ]
  },
  {
   "cell_type": "code",
   "execution_count": 30,
   "metadata": {},
   "outputs": [
    {
     "data": {
      "image/png": "[encoded data removed]",
      "text/plain": [
       "<Figure size 720x576 with 1 Axes>"
      ]
     },
     "metadata": {
      "needs_background": "light"
     },
     "output_type": "display_data"
    }
   ],
   "source": [
    "labels = ['j_g', 'j_q', 'j_w', 'j_z', 'j_t']\n",
    "y_pred = makeRoc(X_test, y_test,labels, model, outputSuffix='ResNet')"
   ]
  },
  {
   "cell_type": "code",
   "execution_count": 31,
   "metadata": {},
   "outputs": [
    {
     "data": {
      "image/png": "[encoded data removed]",
      "text/plain": [
       "<Figure size 720x576 with 1 Axes>"
      ]
     },
     "metadata": {
      "needs_background": "light"
     },
     "output_type": "display_data"
    }
   ],
   "source": [
    "def learningCurve(history):\n",
    "    plt.figure(figsize=(10,8))\n",
    "    plt.plot(history.history['loss'], linewidth=1)\n",
    "    plt.plot(history.history['val_loss'], linewidth=1)\n",
    "    plt.title('Model Loss over Epochs')\n",
    "    plt.ylabel('Loss')\n",
    "    plt.xlabel('Epoch')\n",
    "    plt.legend(['training sample loss','validation sample loss'])\n",
    "    plt.savefig('Learning_curve.pdf')\n",
    "    plt.show()\n",
    "    plt.close()\n",
    "\n",
    "learningCurve(history)"
   ]
  },
  {
   "cell_type": "code",
   "execution_count": null,
   "metadata": {},
   "outputs": [],
   "source": []
  },
  {
   "cell_type": "code",
   "execution_count": null,
   "metadata": {},
   "outputs": [],
   "source": []
  },
  {
   "cell_type": "code",
   "execution_count": null,
   "metadata": {},
   "outputs": [],
   "source": []
  },
  {
   "cell_type": "code",
   "execution_count": null,
   "metadata": {},
   "outputs": [],
   "source": []
  }
 ],
 "metadata": {
  "kernelspec": {
   "display_name": "Python 3.7 (tensorflow)",
   "language": "python",
   "name": "tensorflow"
  },
  "language_info": {
   "codemirror_mode": {
    "name": "ipython",
    "version": 3
   },
   "file_extension": ".py",
   "mimetype": "text/x-python",
   "name": "python",
   "nbconvert_exporter": "python",
   "pygments_lexer": "ipython3",
   "version": "3.7.7"
  }
 },
 "nbformat": 4,
 "nbformat_minor": 4
}
