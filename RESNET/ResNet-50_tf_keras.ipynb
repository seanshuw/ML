{
 "cells": [
  {
   "cell_type": "markdown",
   "metadata": {},
   "source": [
    "# Top tagging model with ResNet-50 "
   ]
  },
  {
   "cell_type": "markdown",
   "metadata": {},
   "source": [
    "This is a training script about using top tagging data to train a ResNet-50 Neuron Network. <br>\n",
    "The training is base on Keras and using tensorflow backend to run."
   ]
  },
  {
   "cell_type": "markdown",
   "metadata": {},
   "source": [
    "## Import necessary package and do gpu test."
   ]
  },
  {
   "cell_type": "code",
   "execution_count": 1,
   "metadata": {},
   "outputs": [
    {
     "name": "stderr",
     "output_type": "stream",
     "text": [
      "Using TensorFlow backend.\n"
     ]
    }
   ],
   "source": [
    "import numpy as np\n",
    "import matplotlib.pyplot as plt \n",
    "import pandas as pd \n",
    "\n",
    "import h5py \n",
    "import os\n",
    "from keras.utils import np_utils\n",
    "import tensorflow as tf\n",
    "from tqdm import tqdm\n"
   ]
  },
  {
   "cell_type": "markdown",
   "metadata": {},
   "source": [
    "## Input data with H5py package\n",
    "Input data size: 1 channel image with shape 224x224. <br>\n",
    "Input label size: 1 or 0 with onehot encoding. <br>\n",
    "\\# of input data(train(with val), test): 30000,6000"
   ]
  },
  {
   "cell_type": "code",
   "execution_count": 2,
   "metadata": {},
   "outputs": [],
   "source": [
    "f = h5py.File('data/processed-pythia82-lhc13-all-pt1-50k-r1_h022_e0175_t220_nonu_withPars_truth_0.z', 'r')\n",
    "treeArray = f['t_allpar_new'][()]\n",
    "features = ['j1_etarot', 'j1_phirot','j_index']\n",
    "labels = ['j_g', 'j_q', 'j_w', 'j_z', 'j_t', 'j_index']\n"
   ]
  },
  {
   "cell_type": "code",
   "execution_count": 3,
   "metadata": {},
   "outputs": [],
   "source": [
    "#features_df = pd.DataFrame(treeArray,columns=list(set(features)))\n",
    "#labels_df = pd.DataFrame(treeArray,columns=list(set(labels)))\n",
    "\n",
    "features_labels_df = pd.DataFrame(treeArray,columns = list(set(features + labels)))\n",
    "features_labels_df = features_labels_df.drop_duplicates()\n",
    "\n",
    "features_labels_df = features_labels_df.head(n = 1000000)\n",
    "features_df = features_labels_df[features]\n",
    "labels_df = features_labels_df[labels]"
   ]
  },
  {
   "cell_type": "code",
   "execution_count": 4,
   "metadata": {},
   "outputs": [],
   "source": [
    "#features_labels_df = features_labels_df.head(n = 300000)\n",
    "#features_df = features_labels_df[features].head(n = 300000)\n",
    "#labels_df = features_labels_df[labels].head(n = 300000)"
   ]
  },
  {
   "cell_type": "code",
   "execution_count": 5,
   "metadata": {},
   "outputs": [
    {
     "name": "stderr",
     "output_type": "stream",
     "text": [
      "100%|███████████████████████████████████████████████████████████████████████████| 19272/19272 [01:53<00:00, 169.65it/s]\n"
     ]
    }
   ],
   "source": [
    "MaxParticles = 40\n",
    "BinsX = 100\n",
    "MinX = -0.8\n",
    "MaxX =  0.8\n",
    "BinsY = 100\n",
    "MinY = -1.0\n",
    "MaxY = 1.0\n",
    "\n",
    "# Convert to nparray\n",
    "labels_df = labels_df.drop_duplicates()\n",
    "features_val = features_df.drop(['j_index'],axis=1).values\n",
    "labels_val = labels_df.drop(['j_index'],axis=1).values\n",
    "\n",
    "# get features\n",
    "features_2dval = np.zeros((len(labels_df), BinsX, BinsY))\n",
    "for i in tqdm(range(0, len(labels_df))):\n",
    "    features_df_i = features_df[features_df['j_index'] == labels_df['j_index'].iloc[i]]\n",
    "    index_values = features_df_i.index.values\n",
    "\n",
    "    xbins = np.linspace(MinX, MaxX, BinsX + 1)\n",
    "    ybins = np.linspace(MinY, MaxY, BinsY + 1)\n",
    "\n",
    "    x = features_df_i[features[0]]\n",
    "    y = features_df_i[features[1]]\n",
    "    w = features_df_i[features[2]]\n",
    "\n",
    "    hist, xedges, yedges = np.histogram2d(x, y, weights=w, bins=(xbins, ybins))\n",
    "\n",
    "    for ix in range(0, BinsX):\n",
    "        for iy in range(0, BinsY):\n",
    "            features_2dval[i, ix, iy] = hist[ix, iy]\n",
    "features_val = features_2dval"
   ]
  },
  {
   "cell_type": "code",
   "execution_count": 6,
   "metadata": {},
   "outputs": [
    {
     "data": {
      "text/plain": [
       "(19272, 100, 100)"
      ]
     },
     "execution_count": 6,
     "metadata": {},
     "output_type": "execute_result"
    }
   ],
   "source": [
    "features_val.shape"
   ]
  },
  {
   "cell_type": "code",
   "execution_count": 7,
   "metadata": {},
   "outputs": [],
   "source": [
    "\n",
    "images = np.stack([features_val, features_val, features_val],axis= -1)\n",
    "label = labels_val"
   ]
  },
  {
   "cell_type": "code",
   "execution_count": 8,
   "metadata": {},
   "outputs": [
    {
     "data": {
      "text/plain": [
       "(19272, 100, 100, 3)"
      ]
     },
     "execution_count": 8,
     "metadata": {},
     "output_type": "execute_result"
    }
   ],
   "source": [
    "images.shape"
   ]
  },
  {
   "cell_type": "code",
   "execution_count": 9,
   "metadata": {},
   "outputs": [],
   "source": [
    "from sklearn.model_selection import train_test_split\n",
    "X_train_val, X_test, y_train_val, y_test = train_test_split(images, label, test_size=0.2,\n",
    "                                                                random_state=42)"
   ]
  },
  {
   "cell_type": "code",
   "execution_count": 10,
   "metadata": {},
   "outputs": [
    {
     "data": {
      "text/plain": [
       "(15417, 100, 100, 3)"
      ]
     },
     "execution_count": 10,
     "metadata": {},
     "output_type": "execute_result"
    }
   ],
   "source": [
    "X_train_val.shape"
   ]
  },
  {
   "cell_type": "code",
   "execution_count": 11,
   "metadata": {},
   "outputs": [
    {
     "data": {
      "text/plain": [
       "(3855, 100, 100, 3)"
      ]
     },
     "execution_count": 11,
     "metadata": {},
     "output_type": "execute_result"
    }
   ],
   "source": [
    "X_test.shape"
   ]
  },
  {
   "cell_type": "code",
   "execution_count": 12,
   "metadata": {},
   "outputs": [],
   "source": [
    "del features_val\n",
    "del features_df\n",
    "del labels_df\n",
    "del images\n",
    "del label"
   ]
  },
  {
   "cell_type": "code",
   "execution_count": null,
   "metadata": {},
   "outputs": [],
   "source": []
  },
  {
   "cell_type": "code",
   "execution_count": null,
   "metadata": {},
   "outputs": [],
   "source": []
  },
  {
   "cell_type": "code",
   "execution_count": null,
   "metadata": {},
   "outputs": [],
   "source": []
  },
  {
   "cell_type": "code",
   "execution_count": null,
   "metadata": {},
   "outputs": [],
   "source": []
  },
  {
   "cell_type": "code",
   "execution_count": null,
   "metadata": {},
   "outputs": [],
   "source": []
  },
  {
   "cell_type": "markdown",
   "metadata": {},
   "source": [
    "## Construsting a sequential \n",
    "Construst a model with Keras pre-configured ResNet-50 and one Dense layer with Softmax activation function. <br>\n",
    "Using Earlystopping and custom callback function to prevent training from overfitting and collect ROC/AUC data point. "
   ]
  },
  {
   "cell_type": "code",
   "execution_count": null,
   "metadata": {},
   "outputs": [],
   "source": []
  },
  {
   "cell_type": "code",
   "execution_count": 13,
   "metadata": {},
   "outputs": [
    {
     "name": "stdout",
     "output_type": "stream",
     "text": [
      "Model: \"sequential\"\n",
      "_________________________________________________________________\n",
      "Layer (type)                 Output Shape              Param #   \n",
      "=================================================================\n",
      "resnet50 (Model)             (None, 2048)              27784064  \n",
      "_________________________________________________________________\n",
      "dense (Dense)                (None, 1024)              2098176   \n",
      "_________________________________________________________________\n",
      "flatten (Flatten)            (None, 1024)              0         \n",
      "_________________________________________________________________\n",
      "dense_1 (Dense)              (None, 5)                 5125      \n",
      "=================================================================\n",
      "Total params: 29,887,365\n",
      "Trainable params: 29,834,245\n",
      "Non-trainable params: 53,120\n",
      "_________________________________________________________________\n"
     ]
    }
   ],
   "source": [
    "model = tf.keras.models.Sequential([\n",
    "tf.keras.applications.ResNet50(weights=None, pooling='max',classes=2048,input_shape=(100,100,3)),\n",
    "tf.keras.layers.Dense(1024,activation='relu'),\n",
    "tf.keras.layers.Flatten(),\n",
    "tf.keras.layers.Dense(5, activation='softmax'),\n",
    "])\n",
    "model.summary()\n",
    "\n"
   ]
  },
  {
   "cell_type": "code",
   "execution_count": 14,
   "metadata": {},
   "outputs": [],
   "source": [
    "from tensorflow.keras.optimizers import Adam\n",
    "adam = Adam(lr = 0.0001)\n",
    "#model.compile(optimizer='adam', loss='categorical_crossentropy', metrics=['accuracy'])\n",
    "model.compile(optimizer='adam', loss='binary_crossentropy',metrics=[tf.keras.metrics.AUC(num_thresholds=200, curve='ROC')])"
   ]
  },
  {
   "cell_type": "code",
   "execution_count": 16,
   "metadata": {},
   "outputs": [
    {
     "name": "stdout",
     "output_type": "stream",
     "text": [
      "Train on 11562 samples, validate on 3855 samples\n",
      "Epoch 1/20\n",
      "11562/11562 [==============================] - 32s 3ms/sample - loss: 0.4107 - auc: 0.8668 - val_loss: 0.5339 - val_auc: 0.6483\n",
      "Epoch 2/20\n",
      "11562/11562 [==============================] - 28s 2ms/sample - loss: 0.2187 - auc: 0.9624 - val_loss: 1.2687 - val_auc: 0.5004\n",
      "Epoch 3/20\n",
      "11562/11562 [==============================] - 28s 2ms/sample - loss: 0.1154 - auc: 0.9837 - val_loss: 1.5820 - val_auc: 0.5004\n",
      "Epoch 4/20\n",
      "11562/11562 [==============================] - 28s 2ms/sample - loss: 0.0624 - auc: 0.9947 - val_loss: 1.5366 - val_auc: 0.5004\n",
      "Epoch 5/20\n",
      "11562/11562 [==============================] - 28s 2ms/sample - loss: 0.0490 - auc: 0.9963 - val_loss: 1.6389 - val_auc: 0.5004\n",
      "Epoch 6/20\n",
      "11562/11562 [==============================] - 28s 2ms/sample - loss: 0.0282 - auc: 0.9986 - val_loss: 1.8555 - val_auc: 0.5004\n",
      "Epoch 7/20\n",
      "11562/11562 [==============================] - 28s 2ms/sample - loss: 0.0469 - auc: 0.9956 - val_loss: 1.0539 - val_auc: 0.7380\n",
      "Epoch 8/20\n",
      "11562/11562 [==============================] - 28s 2ms/sample - loss: 0.0695 - auc: 0.9883 - val_loss: 2.1665 - val_auc: 0.5081\n",
      "Epoch 9/20\n",
      "11562/11562 [==============================] - 28s 2ms/sample - loss: 0.0438 - auc: 0.9967 - val_loss: 1.8230 - val_auc: 0.5692\n",
      "Epoch 10/20\n",
      "11562/11562 [==============================] - 28s 2ms/sample - loss: 0.0497 - auc: 0.9947 - val_loss: 1.3762 - val_auc: 0.6970\n",
      "Epoch 11/20\n",
      "11562/11562 [==============================] - 28s 2ms/sample - loss: 0.0383 - auc: 0.9970 - val_loss: 1.6457 - val_auc: 0.5134\n",
      "Epoch 12/20\n",
      "11562/11562 [==============================] - 28s 2ms/sample - loss: 0.0272 - auc: 0.9985 - val_loss: 0.7293 - val_auc: 0.8990\n",
      "Epoch 13/20\n",
      "11562/11562 [==============================] - 28s 2ms/sample - loss: 0.0200 - auc: 0.9991 - val_loss: 0.0788 - val_auc: 0.9926\n",
      "Epoch 14/20\n",
      "11562/11562 [==============================] - 28s 2ms/sample - loss: 0.0227 - auc: 0.9986 - val_loss: 1.5335 - val_auc: 0.6094\n",
      "Epoch 15/20\n",
      "11562/11562 [==============================] - 28s 2ms/sample - loss: 0.0260 - auc: 0.9978 - val_loss: 1.7465 - val_auc: 0.4998\n",
      "Epoch 16/20\n",
      "11562/11562 [==============================] - 28s 2ms/sample - loss: 0.0190 - auc: 0.9986 - val_loss: 0.5908 - val_auc: 0.9459\n",
      "Epoch 17/20\n",
      "11562/11562 [==============================] - 28s 2ms/sample - loss: 0.0174 - auc: 0.9991 - val_loss: 0.3336 - val_auc: 0.9706\n",
      "Epoch 18/20\n",
      "11562/11562 [==============================] - 28s 2ms/sample - loss: 0.0141 - auc: 0.9994 - val_loss: 1.1805 - val_auc: 0.6650\n",
      "Epoch 19/20\n",
      "11562/11562 [==============================] - 28s 2ms/sample - loss: 0.0107 - auc: 0.9995 - val_loss: 0.4017 - val_auc: 0.9058\n",
      "Epoch 20/20\n",
      "11562/11562 [==============================] - 28s 2ms/sample - loss: 0.0135 - auc: 0.9988 - val_loss: 0.0814 - val_auc: 0.9830\n"
     ]
    }
   ],
   "source": [
    "history = model.fit(X_train_val, y_train_val, batch_size = 256, epochs = 20, \n",
    "                    validation_split = 0.25, shuffle = True, callbacks = None,\n",
    "                    use_multiprocessing=True, workers=4)\n"
   ]
  },
  {
   "cell_type": "markdown",
   "metadata": {},
   "source": [
    "## Define function to visualize learning curve and prediction. <br><br>"
   ]
  },
  {
   "cell_type": "code",
   "execution_count": 17,
   "metadata": {},
   "outputs": [
    {
     "name": "stdout",
     "output_type": "stream",
     "text": [
      "(3855, 5)\n"
     ]
    },
    {
     "data": {
      "text/plain": [
       "(3855, 100, 100, 3)"
      ]
     },
     "execution_count": 17,
     "metadata": {},
     "output_type": "execute_result"
    }
   ],
   "source": [
    "print(y_test.shape)\n",
    "X_test.shape"
   ]
  },
  {
   "cell_type": "code",
   "execution_count": 18,
   "metadata": {},
   "outputs": [],
   "source": [
    "def makeRoc(features_val, labels_val, labels, model, outputDir='', outputSuffix=''):\n",
    "    from sklearn.metrics import roc_curve, auc\n",
    "    labels_pred = model.predict(features_val)\n",
    "    df = pd.DataFrame()\n",
    "    fpr = {}\n",
    "    tpr = {}\n",
    "    auc1 = {}\n",
    "    plt.figure(figsize=(10,8))\n",
    "    for i, label in enumerate(labels):\n",
    "        df[label] = labels_val[:,i-1]\n",
    "        df[label + '_pred'] = labels_pred[:,i-1]\n",
    "        fpr[label], tpr[label], threshold = roc_curve(df[label],df[label+'_pred'])\n",
    "        auc1[label] = auc(fpr[label], tpr[label])\n",
    "        plt.plot(fpr[label],tpr[label],label='%s tagger, AUC = %.1f%%'%(label.replace('j_',''),auc1[label]*100.))\n",
    "    plt.plot([0, 1], [0, 1], lw=1, color='black', linestyle='--')\n",
    "    #plt.semilogy()\n",
    "    plt.xlabel(\"Background Efficiency\")\n",
    "    plt.ylabel(\"Signal Efficiency\")\n",
    "    plt.xlim([-0.05, 1.05])\n",
    "    plt.ylim(0.001,1.05)\n",
    "    plt.grid(True)\n",
    "    plt.legend(loc='lower right')\n",
    "    plt.figtext(0.25, 0.90,'ResNet ROC Curve',fontweight='bold', wrap=True, horizontalalignment='right', fontsize=14)\n",
    "    #plt.figtext(0.35, 0.90,'preliminary', style='italic', wrap=True, horizontalalignment='center', fontsize=14) \n",
    "    #plt.savefig('%sROC_%s.pdf'%(outputDir, outputSuffix))\n",
    "    return labels_pred"
   ]
  },
  {
   "cell_type": "code",
   "execution_count": 19,
   "metadata": {},
   "outputs": [
    {
     "data": {
      "image/png": "[encoded data removed]",
      "text/plain": [
       "<Figure size 720x576 with 1 Axes>"
      ]
     },
     "metadata": {
      "needs_background": "light"
     },
     "output_type": "display_data"
    }
   ],
   "source": [
    "y_pred = makeRoc(X_test, y_test,labels, model, outputSuffix='ResNet')"
   ]
  },
  {
   "cell_type": "code",
   "execution_count": 20,
   "metadata": {},
   "outputs": [
    {
     "data": {
      "image/png": "[encoded data removed]",
      "text/plain": [
       "<Figure size 720x576 with 1 Axes>"
      ]
     },
     "metadata": {
      "needs_background": "light"
     },
     "output_type": "display_data"
    }
   ],
   "source": [
    "def learningCurve(history):\n",
    "    plt.figure(figsize=(10,8))\n",
    "    plt.plot(history.history['loss'], linewidth=1)\n",
    "    plt.plot(history.history['val_loss'], linewidth=1)\n",
    "    plt.title('Model Loss over Epochs')\n",
    "    plt.ylabel('Loss')\n",
    "    plt.xlabel('Epoch')\n",
    "    plt.legend(['training sample loss','validation sample loss'])\n",
    "    plt.savefig('Learning_curve.pdf')\n",
    "    plt.show()\n",
    "    plt.close()\n",
    "\n",
    "learningCurve(history)"
   ]
  },
  {
   "cell_type": "code",
   "execution_count": null,
   "metadata": {},
   "outputs": [],
   "source": []
  },
  {
   "cell_type": "code",
   "execution_count": null,
   "metadata": {},
   "outputs": [],
   "source": []
  },
  {
   "cell_type": "code",
   "execution_count": null,
   "metadata": {},
   "outputs": [],
   "source": []
  },
  {
   "cell_type": "code",
   "execution_count": null,
   "metadata": {},
   "outputs": [],
   "source": []
  }
 ],
 "metadata": {
  "kernelspec": {
   "display_name": "Python 3.7 (tensorflow)",
   "language": "python",
   "name": "tensorflow"
  },
  "language_info": {
   "codemirror_mode": {
    "name": "ipython",
    "version": 3
   },
   "file_extension": ".py",
   "mimetype": "text/x-python",
   "name": "python",
   "nbconvert_exporter": "python",
   "pygments_lexer": "ipython3",
   "version": "3.7.7"
  }
 },
 "nbformat": 4,
 "nbformat_minor": 4
}
