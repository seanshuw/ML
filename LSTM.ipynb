{
 "cells": [
  {
   "cell_type": "code",
   "execution_count": 1,
   "metadata": {},
   "outputs": [
    {
     "name": "stderr",
     "output_type": "stream",
     "text": [
      "Using TensorFlow backend.\n"
     ]
    }
   ],
   "source": [
    "import keras\n",
    "from keras.layers import Input, Dense, Flatten, Conv1D, LSTM, Dropout\n",
    "from keras.models import load_model, Model\n",
    "from sklearn.metrics import roc_curve, auc\n",
    "import numpy as np\n",
    "import os\n",
    "import h5py\n",
    "import yaml\n",
    "import pandas as pd\n",
    "import matplotlib.pyplot as plt\n",
    "from sklearn import preprocessing\n",
    "from tensorflow.keras import datasets, layers, models\n",
    "from tensorflow.keras.regularizers import l1\n",
    "from collections import namedtuple\n",
    "from sklearn.model_selection import train_test_split\n",
    "from tensorflow.keras.optimizers import Adam\n",
    "from train import parse_config, get_features\n",
    "\n",
    "from models.models import lstm_model, lstm_model_full"
   ]
  },
  {
   "cell_type": "code",
   "execution_count": 2,
   "metadata": {},
   "outputs": [
    {
     "name": "stdout",
     "output_type": "stream",
     "text": [
      "Loading configuration from train_config_lstm.yml\n"
     ]
    },
    {
     "data": {
      "text/plain": [
       "{'Inputs': ['j1_ptrel',\n",
       "  'j1_etarot',\n",
       "  'j1_phirot',\n",
       "  'j1_erel',\n",
       "  'j1_deltaR',\n",
       "  'j1_pdgid',\n",
       "  'j_index'],\n",
       " 'Labels': ['j_g', 'j_q', 'j_w', 'j_z', 'j_t', 'j_index'],\n",
       " 'KerasModel': 'lstm_model',\n",
       " 'KerasModelRetrain': 'lstm_model_constraint',\n",
       " 'KerasLoss': 'categorical_crossentropy',\n",
       " 'L1Reg': 0.0001,\n",
       " 'L1RegR': 0.001,\n",
       " 'NormalizeInputs': 1,\n",
       " 'InputType': 'Conv1D',\n",
       " 'MaxParticles': 20}"
      ]
     },
     "execution_count": 2,
     "metadata": {},
     "output_type": "execute_result"
    }
   ],
   "source": [
    "Option = namedtuple(\"MyStruct\", \"inputModel inputFile tree config jsonModel outputDir \")\n",
    "options = Option(\n",
    "    inputModel = 'KERAS_lstm_model_weights.h5',\n",
    "    inputFile = 'fixed.z',\n",
    "    tree = 't_allpar_new',\n",
    "    config = 'train_config_lstm.yml',\n",
    "    jsonModel = 'KERAS_lstm_model.json',\n",
    "    outputDir = 'output'\n",
    ")\n",
    "\n",
    "print(\"Loading configuration from\", options.config)\n",
    "config = open(options.config, 'r')\n",
    "\n",
    "yamlConfig =  yaml.load(config, Loader = yaml.FullLoader)\n",
    "yamlConfig"
   ]
  },
  {
   "cell_type": "code",
   "execution_count": 3,
   "metadata": {},
   "outputs": [
    {
     "data": {
      "text/html": [
       "<div>\n",
       "<style scoped>\n",
       "    .dataframe tbody tr th:only-of-type {\n",
       "        vertical-align: middle;\n",
       "    }\n",
       "\n",
       "    .dataframe tbody tr th {\n",
       "        vertical-align: top;\n",
       "    }\n",
       "\n",
       "    .dataframe thead th {\n",
       "        text-align: right;\n",
       "    }\n",
       "</style>\n",
       "<table border=\"1\" class=\"dataframe\">\n",
       "  <thead>\n",
       "    <tr style=\"text-align: right;\">\n",
       "      <th></th>\n",
       "      <th>j1_phirot</th>\n",
       "      <th>j_t</th>\n",
       "      <th>j_q</th>\n",
       "      <th>j1_ptrel</th>\n",
       "      <th>j_g</th>\n",
       "      <th>j_z</th>\n",
       "      <th>j1_deltaR</th>\n",
       "      <th>j_w</th>\n",
       "      <th>j_index</th>\n",
       "      <th>j1_etarot</th>\n",
       "      <th>j1_pdgid</th>\n",
       "      <th>j1_erel</th>\n",
       "    </tr>\n",
       "  </thead>\n",
       "  <tbody>\n",
       "    <tr>\n",
       "      <th>0</th>\n",
       "      <td>0.000000</td>\n",
       "      <td>0</td>\n",
       "      <td>0</td>\n",
       "      <td>0.386118</td>\n",
       "      <td>1</td>\n",
       "      <td>0</td>\n",
       "      <td>0.011056</td>\n",
       "      <td>0</td>\n",
       "      <td>101333</td>\n",
       "      <td>0.000000</td>\n",
       "      <td>130.0</td>\n",
       "      <td>0.382772</td>\n",
       "    </tr>\n",
       "    <tr>\n",
       "      <th>1</th>\n",
       "      <td>0.007236</td>\n",
       "      <td>0</td>\n",
       "      <td>0</td>\n",
       "      <td>0.107734</td>\n",
       "      <td>1</td>\n",
       "      <td>0</td>\n",
       "      <td>0.023104</td>\n",
       "      <td>0</td>\n",
       "      <td>101333</td>\n",
       "      <td>-0.009859</td>\n",
       "      <td>211.0</td>\n",
       "      <td>0.105703</td>\n",
       "    </tr>\n",
       "    <tr>\n",
       "      <th>2</th>\n",
       "      <td>-0.002759</td>\n",
       "      <td>0</td>\n",
       "      <td>0</td>\n",
       "      <td>0.094731</td>\n",
       "      <td>1</td>\n",
       "      <td>0</td>\n",
       "      <td>0.006306</td>\n",
       "      <td>0</td>\n",
       "      <td>101333</td>\n",
       "      <td>0.004508</td>\n",
       "      <td>321.0</td>\n",
       "      <td>0.094339</td>\n",
       "    </tr>\n",
       "    <tr>\n",
       "      <th>3</th>\n",
       "      <td>-0.014909</td>\n",
       "      <td>0</td>\n",
       "      <td>0</td>\n",
       "      <td>0.042086</td>\n",
       "      <td>1</td>\n",
       "      <td>0</td>\n",
       "      <td>0.022473</td>\n",
       "      <td>0</td>\n",
       "      <td>101333</td>\n",
       "      <td>0.028567</td>\n",
       "      <td>211.0</td>\n",
       "      <td>0.042913</td>\n",
       "    </tr>\n",
       "    <tr>\n",
       "      <th>4</th>\n",
       "      <td>-0.003745</td>\n",
       "      <td>0</td>\n",
       "      <td>0</td>\n",
       "      <td>0.039412</td>\n",
       "      <td>1</td>\n",
       "      <td>0</td>\n",
       "      <td>0.025492</td>\n",
       "      <td>0</td>\n",
       "      <td>101333</td>\n",
       "      <td>-0.018020</td>\n",
       "      <td>-211.0</td>\n",
       "      <td>0.038547</td>\n",
       "    </tr>\n",
       "    <tr>\n",
       "      <th>...</th>\n",
       "      <td>...</td>\n",
       "      <td>...</td>\n",
       "      <td>...</td>\n",
       "      <td>...</td>\n",
       "      <td>...</td>\n",
       "      <td>...</td>\n",
       "      <td>...</td>\n",
       "      <td>...</td>\n",
       "      <td>...</td>\n",
       "      <td>...</td>\n",
       "      <td>...</td>\n",
       "      <td>...</td>\n",
       "    </tr>\n",
       "    <tr>\n",
       "      <th>5131608</th>\n",
       "      <td>-0.315306</td>\n",
       "      <td>0</td>\n",
       "      <td>0</td>\n",
       "      <td>0.000350</td>\n",
       "      <td>0</td>\n",
       "      <td>1</td>\n",
       "      <td>0.380018</td>\n",
       "      <td>0</td>\n",
       "      <td>300123134</td>\n",
       "      <td>-0.300495</td>\n",
       "      <td>111.0</td>\n",
       "      <td>0.000344</td>\n",
       "    </tr>\n",
       "    <tr>\n",
       "      <th>5131609</th>\n",
       "      <td>-0.349366</td>\n",
       "      <td>0</td>\n",
       "      <td>0</td>\n",
       "      <td>0.000258</td>\n",
       "      <td>0</td>\n",
       "      <td>1</td>\n",
       "      <td>0.294476</td>\n",
       "      <td>0</td>\n",
       "      <td>300123134</td>\n",
       "      <td>0.258936</td>\n",
       "      <td>111.0</td>\n",
       "      <td>0.000256</td>\n",
       "    </tr>\n",
       "    <tr>\n",
       "      <th>5131610</th>\n",
       "      <td>-0.270430</td>\n",
       "      <td>0</td>\n",
       "      <td>0</td>\n",
       "      <td>0.000219</td>\n",
       "      <td>0</td>\n",
       "      <td>1</td>\n",
       "      <td>0.255231</td>\n",
       "      <td>0</td>\n",
       "      <td>300123134</td>\n",
       "      <td>0.269149</td>\n",
       "      <td>111.0</td>\n",
       "      <td>0.000215</td>\n",
       "    </tr>\n",
       "    <tr>\n",
       "      <th>5131611</th>\n",
       "      <td>-0.341398</td>\n",
       "      <td>0</td>\n",
       "      <td>0</td>\n",
       "      <td>0.000116</td>\n",
       "      <td>0</td>\n",
       "      <td>1</td>\n",
       "      <td>0.319973</td>\n",
       "      <td>0</td>\n",
       "      <td>300123134</td>\n",
       "      <td>-0.213081</td>\n",
       "      <td>111.0</td>\n",
       "      <td>0.000115</td>\n",
       "    </tr>\n",
       "    <tr>\n",
       "      <th>5131612</th>\n",
       "      <td>-0.289803</td>\n",
       "      <td>0</td>\n",
       "      <td>0</td>\n",
       "      <td>0.000080</td>\n",
       "      <td>0</td>\n",
       "      <td>1</td>\n",
       "      <td>0.395627</td>\n",
       "      <td>0</td>\n",
       "      <td>300123134</td>\n",
       "      <td>0.416615</td>\n",
       "      <td>111.0</td>\n",
       "      <td>0.000079</td>\n",
       "    </tr>\n",
       "  </tbody>\n",
       "</table>\n",
       "<p>5131613 rows × 12 columns</p>\n",
       "</div>"
      ],
      "text/plain": [
       "         j1_phirot  j_t  j_q  j1_ptrel  j_g  j_z  j1_deltaR  j_w    j_index  \\\n",
       "0         0.000000    0    0  0.386118    1    0   0.011056    0     101333   \n",
       "1         0.007236    0    0  0.107734    1    0   0.023104    0     101333   \n",
       "2        -0.002759    0    0  0.094731    1    0   0.006306    0     101333   \n",
       "3        -0.014909    0    0  0.042086    1    0   0.022473    0     101333   \n",
       "4        -0.003745    0    0  0.039412    1    0   0.025492    0     101333   \n",
       "...            ...  ...  ...       ...  ...  ...        ...  ...        ...   \n",
       "5131608  -0.315306    0    0  0.000350    0    1   0.380018    0  300123134   \n",
       "5131609  -0.349366    0    0  0.000258    0    1   0.294476    0  300123134   \n",
       "5131610  -0.270430    0    0  0.000219    0    1   0.255231    0  300123134   \n",
       "5131611  -0.341398    0    0  0.000116    0    1   0.319973    0  300123134   \n",
       "5131612  -0.289803    0    0  0.000080    0    1   0.395627    0  300123134   \n",
       "\n",
       "         j1_etarot  j1_pdgid   j1_erel  \n",
       "0         0.000000     130.0  0.382772  \n",
       "1        -0.009859     211.0  0.105703  \n",
       "2         0.004508     321.0  0.094339  \n",
       "3         0.028567     211.0  0.042913  \n",
       "4        -0.018020    -211.0  0.038547  \n",
       "...            ...       ...       ...  \n",
       "5131608  -0.300495     111.0  0.000344  \n",
       "5131609   0.258936     111.0  0.000256  \n",
       "5131610   0.269149     111.0  0.000215  \n",
       "5131611  -0.213081     111.0  0.000115  \n",
       "5131612   0.416615     111.0  0.000079  \n",
       "\n",
       "[5131613 rows x 12 columns]"
      ]
     },
     "execution_count": 3,
     "metadata": {},
     "output_type": "execute_result"
    }
   ],
   "source": [
    "f = h5py.File(options.inputFile, 'r')\n",
    "treeArray = f[options.tree][()]\n",
    "\n",
    "features = yamlConfig['Inputs']\n",
    "labels = yamlConfig['Labels']\n",
    "\n",
    "features_df = pd.DataFrame(treeArray,columns=list(set(features)))\n",
    "labels_df = pd.DataFrame(treeArray,columns=list(set(labels)))\n",
    "\n",
    "features_labels_df = pd.DataFrame(treeArray,columns = list(set(features + labels)))\n",
    "features_labels_df = features_labels_df.drop_duplicates()\n",
    "\n",
    "features_labels_df\n"
   ]
  },
  {
   "cell_type": "code",
   "execution_count": 4,
   "metadata": {},
   "outputs": [
    {
     "name": "stderr",
     "output_type": "stream",
     "text": [
      "C:\\Users\\jjren\\LSTM\\train.py:33: H5pyDeprecationWarning: The default file mode will change to 'r' (read-only) in h5py 3.0. To suppress this warning, pass the mode you need to h5py.File(), or set the global default h5.get_config().default_file_mode, or set the environment variable H5PY_DEFAULT_READONLY=1. Available modes are: 'r', 'r+', 'w', 'w-'/'x', 'a'. See the docs for details.\n",
      "  h5File = h5py.File(options.inputFile)\n"
     ]
    },
    {
     "name": "stdout",
     "output_type": "stream",
     "text": [
      "(5131613,)\n",
      "('index', 'j_ptfrac', 'j_pt', 'j_eta', 'j_mass', 'j_tau1_b1', 'j_tau2_b1', 'j_tau3_b1', 'j_tau1_b2', 'j_tau2_b2', 'j_tau3_b2', 'j_tau32_b1', 'j_tau32_b2', 'j_zlogz', 'j_c1_b0', 'j_c1_b1', 'j_c1_b2', 'j_c2_b1', 'j_c2_b2', 'j_d2_b1', 'j_d2_b2', 'j_d2_a1_b1', 'j_d2_a1_b2', 'j_m2_b1', 'j_m2_b2', 'j_n2_b1', 'j_n2_b2', 'j_tau1_b1_mmdt', 'j_tau2_b1_mmdt', 'j_tau3_b1_mmdt', 'j_tau1_b2_mmdt', 'j_tau2_b2_mmdt', 'j_tau3_b2_mmdt', 'j_tau32_b1_mmdt', 'j_tau32_b2_mmdt', 'j_c1_b0_mmdt', 'j_c1_b1_mmdt', 'j_c1_b2_mmdt', 'j_c2_b1_mmdt', 'j_c2_b2_mmdt', 'j_d2_b1_mmdt', 'j_d2_b2_mmdt', 'j_d2_a1_b1_mmdt', 'j_d2_a1_b2_mmdt', 'j_m2_b1_mmdt', 'j_m2_b2_mmdt', 'j_n2_b1_mmdt', 'j_n2_b2_mmdt', 'j_mass_trim', 'j_mass_mmdt', 'j_mass_prun', 'j_mass_sdb2', 'j_mass_sdm1', 'j_multiplicity', 'j1_px', 'j1_py', 'j1_pz', 'j1_e', 'j1_pdgid', 'j1_erel', 'j1_pt', 'j1_ptrel', 'j1_eta', 'j1_etarel', 'j1_etarot', 'j1_phi', 'j1_phirel', 'j1_phirot', 'j1_deltaR', 'j1_costheta', 'j1_costhetarel', 'j1_e1mcosthetarel', 'j_g', 'j_q', 'j_w', 'j_z', 'j_t', 'j_undef', 'j_index')\n",
      "(98769, 5)\n"
     ]
    }
   ],
   "source": [
    "X_train_val, X_test, y_train_val, y_test, labels  = get_features(options, yamlConfig)"
   ]
  },
  {
   "cell_type": "markdown",
   "metadata": {},
   "source": [
    "# Self_Build Model"
   ]
  },
  {
   "cell_type": "code",
   "execution_count": 5,
   "metadata": {},
   "outputs": [
    {
     "name": "stdout",
     "output_type": "stream",
     "text": [
      "Model: \"model\"\n",
      "_________________________________________________________________\n",
      "Layer (type)                 Output Shape              Param #   \n",
      "=================================================================\n",
      "input_1 (InputLayer)         [(None, 20, 6)]           0         \n",
      "_________________________________________________________________\n",
      "lstm_lstm (LSTM)             (None, 20, 16)            1472      \n",
      "_________________________________________________________________\n",
      "flatten (Flatten)            (None, 320)               0         \n",
      "_________________________________________________________________\n",
      "rnn_densef (Dense)           (None, 5)                 1605      \n",
      "=================================================================\n",
      "Total params: 3,077\n",
      "Trainable params: 3,077\n",
      "Non-trainable params: 0\n",
      "_________________________________________________________________\n"
     ]
    }
   ],
   "source": [
    "l1Reg =  0.0001\n",
    "l1RegR = 0.001\n",
    "\n",
    "Inputs = Input(shape = (20,6,))\n",
    "\n",
    "x = LSTM(16,return_sequences=True,  kernel_regularizer=l1(l1Reg),recurrent_regularizer=l1(l1RegR),activation='relu',kernel_initializer='lecun_uniform',name='lstm_lstm',\n",
    "         dropout=0.001, recurrent_dropout=0.00001)(Inputs)\n",
    "\n",
    "x = Flatten()(x)\n",
    "#x = Dropout(0.1)(x)\n",
    "predictions = Dense(5, activation='softmax', kernel_initializer='lecun_uniform', name='rnn_densef')(x)\n",
    "model = Model(inputs=Inputs, outputs=predictions)\n",
    "\n",
    "model.summary()"
   ]
  },
  {
   "cell_type": "markdown",
   "metadata": {},
   "source": [
    "# Load model.py"
   ]
  },
  {
   "cell_type": "code",
   "execution_count": null,
   "metadata": {},
   "outputs": [],
   "source": [
    "model = lstm_model(Input(shape=X_train_val.shape[1:]), y_train_val.shape[1], l1Reg=yamlConfig['L1Reg'] )\n",
    "\n",
    "\n"
   ]
  },
  {
   "cell_type": "markdown",
   "metadata": {},
   "source": [
    "# Load from json"
   ]
  },
  {
   "cell_type": "code",
   "execution_count": 8,
   "metadata": {},
   "outputs": [
    {
     "name": "stdout",
     "output_type": "stream",
     "text": [
      "Model: \"model_1\"\n",
      "_________________________________________________________________\n",
      "Layer (type)                 Output Shape              Param #   \n",
      "=================================================================\n",
      "input_1 (InputLayer)         [(None, 20, 6)]           0         \n",
      "_________________________________________________________________\n",
      "lstm_lstm (LSTM)             (None, 20, 16)            1472      \n",
      "_________________________________________________________________\n",
      "flatten_1 (Flatten)          (None, 320)               0         \n",
      "_________________________________________________________________\n",
      "rnn_densef (Dense)           (None, 5)                 1605      \n",
      "=================================================================\n",
      "Total params: 3,077\n",
      "Trainable params: 3,077\n",
      "Non-trainable params: 0\n",
      "_________________________________________________________________\n"
     ]
    }
   ],
   "source": [
    "from keras.models import model_from_json\n",
    "json_file = open(options.jsonModel, 'r')\n",
    "model = model_from_json(json_file.read())\n",
    "json_file.close()\n",
    "\n",
    "model.summary()"
   ]
  },
  {
   "cell_type": "markdown",
   "metadata": {},
   "source": [
    "# Full"
   ]
  },
  {
   "cell_type": "code",
   "execution_count": 68,
   "metadata": {},
   "outputs": [
    {
     "name": "stdout",
     "output_type": "stream",
     "text": [
      "Model: \"model_10\"\n",
      "_________________________________________________________________\n",
      "Layer (type)                 Output Shape              Param #   \n",
      "=================================================================\n",
      "input_11 (InputLayer)        [(None, 20, 6)]           0         \n",
      "_________________________________________________________________\n",
      "particles_conv0 (Conv1D)     (None, 20, 32)            416       \n",
      "_________________________________________________________________\n",
      "particles_conv1 (Conv1D)     (None, 20, 16)            2064      \n",
      "_________________________________________________________________\n",
      "lstm (LSTM)                  (None, 20, 72)            25632     \n",
      "_________________________________________________________________\n",
      "flatten_5 (Flatten)          (None, 1440)              0         \n",
      "_________________________________________________________________\n",
      "dropout_4 (Dropout)          (None, 1440)              0         \n",
      "_________________________________________________________________\n",
      "rnn_dense2 (Dense)           (None, 128)               184448    \n",
      "_________________________________________________________________\n",
      "dropout_5 (Dropout)          (None, 128)               0         \n",
      "_________________________________________________________________\n",
      "rnn_dense3 (Dense)           (None, 128)               16512     \n",
      "_________________________________________________________________\n",
      "dropout_6 (Dropout)          (None, 128)               0         \n",
      "_________________________________________________________________\n",
      "rnn_densef (Dense)           (None, 5)                 645       \n",
      "=================================================================\n",
      "Total params: 229,717\n",
      "Trainable params: 229,717\n",
      "Non-trainable params: 0\n",
      "_________________________________________________________________\n",
      "None\n"
     ]
    }
   ],
   "source": [
    "model= lstm_model_full(Input(shape=X_train_val.shape[1:]), y_train_val.shape[1], yamlConfig['L1Reg'])"
   ]
  },
  {
   "cell_type": "markdown",
   "metadata": {},
   "source": [
    "# Run training"
   ]
  },
  {
   "cell_type": "code",
   "execution_count": 6,
   "metadata": {},
   "outputs": [],
   "source": [
    "adam = Adam(lr = 0.0001)\n",
    "model.compile(optimizer='adam', loss='categorical_crossentropy', metrics=['accuracy'])"
   ]
  },
  {
   "cell_type": "code",
   "execution_count": 7,
   "metadata": {},
   "outputs": [
    {
     "name": "stdout",
     "output_type": "stream",
     "text": [
      "Epoch 1/100\n",
      "1852/1852 [==============================] - 28s 15ms/step - loss: 1.1177 - accuracy: 0.6018 - val_loss: 1.0107 - val_accuracy: 0.6527\n",
      "Epoch 2/100\n",
      "1852/1852 [==============================] - 27s 15ms/step - loss: 0.9784 - accuracy: 0.6637 - val_loss: 0.9581 - val_accuracy: 0.6676\n",
      "Epoch 3/100\n",
      "1852/1852 [==============================] - 27s 15ms/step - loss: 0.9401 - accuracy: 0.6791 - val_loss: 0.9422 - val_accuracy: 0.6734\n",
      "Epoch 4/100\n",
      "1852/1852 [==============================] - 27s 15ms/step - loss: 0.9189 - accuracy: 0.6862 - val_loss: 0.8918 - val_accuracy: 0.6962\n",
      "Epoch 5/100\n",
      "1852/1852 [==============================] - 28s 15ms/step - loss: 0.9010 - accuracy: 0.6909 - val_loss: 0.9006 - val_accuracy: 0.6982\n",
      "Epoch 6/100\n",
      "1852/1852 [==============================] - 27s 15ms/step - loss: 0.8928 - accuracy: 0.6964 - val_loss: 0.8758 - val_accuracy: 0.7008\n",
      "Epoch 7/100\n",
      "1852/1852 [==============================] - 27s 15ms/step - loss: 0.8847 - accuracy: 0.6984 - val_loss: 0.8822 - val_accuracy: 0.6988\n",
      "Epoch 8/100\n",
      "1852/1852 [==============================] - 27s 15ms/step - loss: 0.8797 - accuracy: 0.7001 - val_loss: 0.8714 - val_accuracy: 0.7076\n",
      "Epoch 9/100\n",
      "1852/1852 [==============================] - 27s 15ms/step - loss: 0.8744 - accuracy: 0.7028 - val_loss: 0.8647 - val_accuracy: 0.7077\n",
      "Epoch 10/100\n",
      "1852/1852 [==============================] - 27s 15ms/step - loss: 0.8706 - accuracy: 0.7034 - val_loss: 0.8779 - val_accuracy: 0.7000\n",
      "Epoch 11/100\n",
      "1852/1852 [==============================] - 27s 15ms/step - loss: 0.8676 - accuracy: 0.7049 - val_loss: 0.8628 - val_accuracy: 0.7070\n",
      "Epoch 12/100\n",
      "1852/1852 [==============================] - 27s 15ms/step - loss: 0.8648 - accuracy: 0.7048 - val_loss: 0.8663 - val_accuracy: 0.7043\n",
      "Epoch 13/100\n",
      "1852/1852 [==============================] - 27s 15ms/step - loss: 0.8626 - accuracy: 0.7060 - val_loss: 0.8566 - val_accuracy: 0.7064\n",
      "Epoch 14/100\n",
      "1852/1852 [==============================] - 26s 14ms/step - loss: 0.8610 - accuracy: 0.7072 - val_loss: 0.8660 - val_accuracy: 0.7039\n",
      "Epoch 15/100\n",
      "1852/1852 [==============================] - 26s 14ms/step - loss: 0.8585 - accuracy: 0.7063 - val_loss: 0.8594 - val_accuracy: 0.7067\n",
      "Epoch 16/100\n",
      "1852/1852 [==============================] - 26s 14ms/step - loss: 0.8575 - accuracy: 0.7060 - val_loss: 0.8550 - val_accuracy: 0.7115\n",
      "Epoch 17/100\n",
      "1852/1852 [==============================] - 26s 14ms/step - loss: 0.8555 - accuracy: 0.7088 - val_loss: 0.8490 - val_accuracy: 0.7110\n",
      "Epoch 18/100\n",
      "1852/1852 [==============================] - 26s 14ms/step - loss: 0.8541 - accuracy: 0.7076 - val_loss: 0.8625 - val_accuracy: 0.7038\n",
      "Epoch 19/100\n",
      "1852/1852 [==============================] - 26s 14ms/step - loss: 0.8526 - accuracy: 0.7083 - val_loss: 0.8508 - val_accuracy: 0.7106\n",
      "Epoch 20/100\n",
      "1852/1852 [==============================] - 26s 14ms/step - loss: 0.8501 - accuracy: 0.7102 - val_loss: 0.8668 - val_accuracy: 0.7030\n",
      "Epoch 21/100\n",
      "1852/1852 [==============================] - 26s 14ms/step - loss: 0.8497 - accuracy: 0.7081 - val_loss: 0.8445 - val_accuracy: 0.7149\n",
      "Epoch 22/100\n",
      "1852/1852 [==============================] - 26s 14ms/step - loss: 0.8490 - accuracy: 0.7095 - val_loss: 0.8634 - val_accuracy: 0.7048\n",
      "Epoch 23/100\n",
      "1852/1852 [==============================] - 26s 14ms/step - loss: 0.8470 - accuracy: 0.7100 - val_loss: 0.8433 - val_accuracy: 0.7150\n",
      "Epoch 24/100\n",
      "1852/1852 [==============================] - 26s 14ms/step - loss: 0.8468 - accuracy: 0.7097 - val_loss: 0.8655 - val_accuracy: 0.7049\n",
      "Epoch 25/100\n",
      "1852/1852 [==============================] - 26s 14ms/step - loss: 0.8473 - accuracy: 0.7083 - val_loss: 0.8433 - val_accuracy: 0.7159\n",
      "Epoch 26/100\n",
      "1852/1852 [==============================] - 26s 14ms/step - loss: 0.8448 - accuracy: 0.7105 - val_loss: 0.8873 - val_accuracy: 0.6995\n",
      "Epoch 27/100\n",
      "1852/1852 [==============================] - 26s 14ms/step - loss: 0.8433 - accuracy: 0.7106 - val_loss: 0.8442 - val_accuracy: 0.7128\n",
      "Epoch 28/100\n",
      "1852/1852 [==============================] - 26s 14ms/step - loss: 0.8433 - accuracy: 0.7117 - val_loss: 0.8502 - val_accuracy: 0.7084\n",
      "Epoch 29/100\n",
      "1852/1852 [==============================] - 26s 14ms/step - loss: 0.8426 - accuracy: 0.7102 - val_loss: 0.8488 - val_accuracy: 0.7102\n",
      "Epoch 30/100\n",
      "1852/1852 [==============================] - 26s 14ms/step - loss: 0.8413 - accuracy: 0.7110 - val_loss: 0.8638 - val_accuracy: 0.7024\n",
      "Epoch 31/100\n",
      "1852/1852 [==============================] - 26s 14ms/step - loss: 0.8395 - accuracy: 0.7123 - val_loss: 0.8529 - val_accuracy: 0.7087\n",
      "Epoch 32/100\n",
      "1852/1852 [==============================] - 26s 14ms/step - loss: 0.8390 - accuracy: 0.7127 - val_loss: 0.8571 - val_accuracy: 0.7066\n",
      "Epoch 33/100\n",
      "1852/1852 [==============================] - 26s 14ms/step - loss: 0.8374 - accuracy: 0.7127 - val_loss: 0.8327 - val_accuracy: 0.7187\n",
      "Epoch 34/100\n",
      "1852/1852 [==============================] - 26s 14ms/step - loss: 0.8379 - accuracy: 0.7115 - val_loss: 0.8581 - val_accuracy: 0.7076\n",
      "Epoch 35/100\n",
      "1852/1852 [==============================] - 26s 14ms/step - loss: 0.8381 - accuracy: 0.7116 - val_loss: 0.8367 - val_accuracy: 0.7119\n",
      "Epoch 36/100\n",
      "1852/1852 [==============================] - 26s 14ms/step - loss: 0.8373 - accuracy: 0.7123 - val_loss: 0.8469 - val_accuracy: 0.7141\n",
      "Epoch 37/100\n",
      "1852/1852 [==============================] - 26s 14ms/step - loss: 0.8368 - accuracy: 0.7131 - val_loss: 0.8518 - val_accuracy: 0.7093\n",
      "Epoch 38/100\n",
      "1852/1852 [==============================] - 26s 14ms/step - loss: 0.8344 - accuracy: 0.7143 - val_loss: 0.8384 - val_accuracy: 0.7134\n",
      "Epoch 39/100\n",
      "1852/1852 [==============================] - 26s 14ms/step - loss: 0.8347 - accuracy: 0.7142 - val_loss: 0.8391 - val_accuracy: 0.7156\n",
      "Epoch 40/100\n",
      "1852/1852 [==============================] - 26s 14ms/step - loss: 0.8351 - accuracy: 0.7131 - val_loss: 0.8443 - val_accuracy: 0.7110\n",
      "Epoch 41/100\n",
      "1852/1852 [==============================] - 26s 14ms/step - loss: 0.8334 - accuracy: 0.7150 - val_loss: 0.8510 - val_accuracy: 0.7066\n",
      "Epoch 42/100\n",
      "1852/1852 [==============================] - 26s 14ms/step - loss: 0.8341 - accuracy: 0.7134 - val_loss: 0.8518 - val_accuracy: 0.7099\n",
      "Epoch 43/100\n",
      "1852/1852 [==============================] - 26s 14ms/step - loss: 0.8340 - accuracy: 0.7126 - val_loss: 0.8474 - val_accuracy: 0.7096\n",
      "Epoch 44/100\n",
      "1852/1852 [==============================] - 26s 14ms/step - loss: 0.8323 - accuracy: 0.7146 - val_loss: 0.8353 - val_accuracy: 0.7146\n",
      "Epoch 45/100\n",
      "1852/1852 [==============================] - 26s 14ms/step - loss: 0.8312 - accuracy: 0.7143 - val_loss: 0.8345 - val_accuracy: 0.7161\n",
      "Epoch 46/100\n",
      "1852/1852 [==============================] - 26s 14ms/step - loss: 0.8306 - accuracy: 0.7146 - val_loss: 0.8360 - val_accuracy: 0.7177\n",
      "Epoch 47/100\n",
      "1852/1852 [==============================] - 26s 14ms/step - loss: 0.8324 - accuracy: 0.7139 - val_loss: 0.8303 - val_accuracy: 0.7163\n",
      "Epoch 48/100\n",
      "1852/1852 [==============================] - 26s 14ms/step - loss: 0.8302 - accuracy: 0.7146 - val_loss: 0.8447 - val_accuracy: 0.7154\n",
      "Epoch 49/100\n",
      "1852/1852 [==============================] - 26s 14ms/step - loss: 0.8316 - accuracy: 0.7146 - val_loss: 0.8344 - val_accuracy: 0.7169\n",
      "Epoch 50/100\n",
      "1852/1852 [==============================] - 26s 14ms/step - loss: 0.8304 - accuracy: 0.7148 - val_loss: 0.8310 - val_accuracy: 0.7167\n",
      "Epoch 51/100\n",
      "1852/1852 [==============================] - 26s 14ms/step - loss: 0.8292 - accuracy: 0.7148 - val_loss: 0.8327 - val_accuracy: 0.7164\n",
      "Epoch 52/100\n",
      "1852/1852 [==============================] - 26s 14ms/step - loss: 0.8292 - accuracy: 0.7145 - val_loss: 0.8329 - val_accuracy: 0.7136\n",
      "Epoch 53/100\n",
      "1852/1852 [==============================] - 26s 14ms/step - loss: 0.8279 - accuracy: 0.7157 - val_loss: 0.8474 - val_accuracy: 0.7124\n",
      "Epoch 54/100\n",
      "1852/1852 [==============================] - 26s 14ms/step - loss: 0.8300 - accuracy: 0.7138 - val_loss: 0.8350 - val_accuracy: 0.7159\n",
      "Epoch 55/100\n",
      "1852/1852 [==============================] - 26s 14ms/step - loss: 0.8296 - accuracy: 0.7145 - val_loss: 0.8309 - val_accuracy: 0.7190\n",
      "Epoch 56/100\n"
     ]
    },
    {
     "name": "stdout",
     "output_type": "stream",
     "text": [
      "1852/1852 [==============================] - 26s 14ms/step - loss: 0.8278 - accuracy: 0.7153 - val_loss: 0.8419 - val_accuracy: 0.7122\n",
      "Epoch 57/100\n",
      "1852/1852 [==============================] - 26s 14ms/step - loss: 0.8299 - accuracy: 0.7135 - val_loss: 0.8502 - val_accuracy: 0.7078\n",
      "Epoch 58/100\n",
      "1852/1852 [==============================] - 26s 14ms/step - loss: 0.8282 - accuracy: 0.7162 - val_loss: 0.8289 - val_accuracy: 0.7191\n",
      "Epoch 59/100\n",
      "1852/1852 [==============================] - 26s 14ms/step - loss: 0.8269 - accuracy: 0.7158 - val_loss: 0.8398 - val_accuracy: 0.7112\n",
      "Epoch 60/100\n",
      "1852/1852 [==============================] - 26s 14ms/step - loss: 0.8269 - accuracy: 0.7151 - val_loss: 0.8397 - val_accuracy: 0.7160\n",
      "Epoch 61/100\n",
      "1852/1852 [==============================] - 26s 14ms/step - loss: 0.8267 - accuracy: 0.7154 - val_loss: 0.8364 - val_accuracy: 0.7147\n",
      "Epoch 62/100\n",
      "1852/1852 [==============================] - 26s 14ms/step - loss: 0.8266 - accuracy: 0.7158 - val_loss: 0.8269 - val_accuracy: 0.7177\n",
      "Epoch 63/100\n",
      "1852/1852 [==============================] - 26s 14ms/step - loss: 0.8251 - accuracy: 0.7168 - val_loss: 0.8270 - val_accuracy: 0.7182\n",
      "Epoch 64/100\n",
      "1852/1852 [==============================] - 26s 14ms/step - loss: 0.8252 - accuracy: 0.7160 - val_loss: 0.8485 - val_accuracy: 0.7098\n",
      "Epoch 65/100\n",
      "1852/1852 [==============================] - 26s 14ms/step - loss: 0.8254 - accuracy: 0.7160 - val_loss: 0.8295 - val_accuracy: 0.7174\n",
      "Epoch 66/100\n",
      "1852/1852 [==============================] - 26s 14ms/step - loss: 0.8261 - accuracy: 0.7163 - val_loss: 0.8515 - val_accuracy: 0.7095\n",
      "Epoch 67/100\n",
      "1852/1852 [==============================] - 26s 14ms/step - loss: 0.8255 - accuracy: 0.7162 - val_loss: 0.8334 - val_accuracy: 0.7162\n",
      "Epoch 68/100\n",
      "1852/1852 [==============================] - 26s 14ms/step - loss: 0.8250 - accuracy: 0.7161 - val_loss: 0.8324 - val_accuracy: 0.7157\n",
      "Epoch 69/100\n",
      "1852/1852 [==============================] - 26s 14ms/step - loss: 0.8260 - accuracy: 0.7157 - val_loss: 0.8291 - val_accuracy: 0.7155\n",
      "Epoch 70/100\n",
      "1852/1852 [==============================] - 26s 14ms/step - loss: 0.8244 - accuracy: 0.7145 - val_loss: 0.8302 - val_accuracy: 0.7176\n",
      "Epoch 71/100\n",
      "1852/1852 [==============================] - 26s 14ms/step - loss: 0.8237 - accuracy: 0.7148 - val_loss: 0.8390 - val_accuracy: 0.7124\n",
      "Epoch 72/100\n",
      "1852/1852 [==============================] - 26s 14ms/step - loss: 0.8246 - accuracy: 0.7169 - val_loss: 0.8350 - val_accuracy: 0.7178\n",
      "Epoch 73/100\n",
      "1852/1852 [==============================] - 27s 15ms/step - loss: 0.8241 - accuracy: 0.7153 - val_loss: 0.8406 - val_accuracy: 0.7113\n",
      "Epoch 74/100\n",
      "1852/1852 [==============================] - 26s 14ms/step - loss: 0.8232 - accuracy: 0.7174 - val_loss: 0.8262 - val_accuracy: 0.7184\n",
      "Epoch 75/100\n",
      "1852/1852 [==============================] - 26s 14ms/step - loss: 0.8239 - accuracy: 0.7156 - val_loss: 0.8329 - val_accuracy: 0.7163\n",
      "Epoch 76/100\n",
      "1852/1852 [==============================] - 26s 14ms/step - loss: 0.8236 - accuracy: 0.7162 - val_loss: 0.8318 - val_accuracy: 0.7145\n",
      "Epoch 77/100\n",
      "1852/1852 [==============================] - 26s 14ms/step - loss: 0.8233 - accuracy: 0.7156 - val_loss: 0.8339 - val_accuracy: 0.7183\n",
      "Epoch 78/100\n",
      "1852/1852 [==============================] - 26s 14ms/step - loss: 0.8231 - accuracy: 0.7163 - val_loss: 0.8414 - val_accuracy: 0.7141\n",
      "Epoch 79/100\n",
      "1852/1852 [==============================] - 26s 14ms/step - loss: 0.8232 - accuracy: 0.7169 - val_loss: 0.8324 - val_accuracy: 0.7168\n",
      "Epoch 80/100\n",
      "1852/1852 [==============================] - 26s 14ms/step - loss: 0.8228 - accuracy: 0.7160 - val_loss: 0.8269 - val_accuracy: 0.7158\n",
      "Epoch 81/100\n",
      "1852/1852 [==============================] - 26s 14ms/step - loss: 0.8220 - accuracy: 0.7161 - val_loss: 0.8390 - val_accuracy: 0.7123\n",
      "Epoch 82/100\n",
      "1852/1852 [==============================] - 26s 14ms/step - loss: 0.8228 - accuracy: 0.7162 - val_loss: 0.8327 - val_accuracy: 0.7160\n",
      "Epoch 83/100\n",
      "1852/1852 [==============================] - 26s 14ms/step - loss: 0.8220 - accuracy: 0.7155 - val_loss: 0.8311 - val_accuracy: 0.7146\n",
      "Epoch 84/100\n",
      "1852/1852 [==============================] - 26s 14ms/step - loss: 0.8223 - accuracy: 0.7161 - val_loss: 0.8276 - val_accuracy: 0.7184\n",
      "Epoch 85/100\n",
      "1852/1852 [==============================] - 26s 14ms/step - loss: 0.8218 - accuracy: 0.7176 - val_loss: 0.8320 - val_accuracy: 0.7138\n",
      "Epoch 86/100\n",
      "1852/1852 [==============================] - 26s 14ms/step - loss: 0.8235 - accuracy: 0.7168 - val_loss: 0.8394 - val_accuracy: 0.7150\n",
      "Epoch 87/100\n",
      "1852/1852 [==============================] - 26s 14ms/step - loss: 0.8217 - accuracy: 0.7166 - val_loss: 0.8431 - val_accuracy: 0.7105\n",
      "Epoch 88/100\n",
      "1852/1852 [==============================] - 26s 14ms/step - loss: 0.8215 - accuracy: 0.7159 - val_loss: 0.8341 - val_accuracy: 0.7147\n",
      "Epoch 89/100\n",
      "1852/1852 [==============================] - 26s 14ms/step - loss: 0.8220 - accuracy: 0.7167 - val_loss: 0.8290 - val_accuracy: 0.7170\n",
      "Epoch 90/100\n",
      "1852/1852 [==============================] - 26s 14ms/step - loss: 0.8193 - accuracy: 0.7187 - val_loss: 0.8267 - val_accuracy: 0.7171\n",
      "Epoch 91/100\n",
      "1852/1852 [==============================] - 26s 14ms/step - loss: 0.8197 - accuracy: 0.7171 - val_loss: 0.8372 - val_accuracy: 0.7124\n",
      "Epoch 92/100\n",
      "1852/1852 [==============================] - 26s 14ms/step - loss: 0.8204 - accuracy: 0.7169 - val_loss: 0.8333 - val_accuracy: 0.7141\n",
      "Epoch 93/100\n",
      "1852/1852 [==============================] - 26s 14ms/step - loss: 0.8205 - accuracy: 0.7161 - val_loss: 0.8456 - val_accuracy: 0.7113\n",
      "Epoch 94/100\n",
      "1852/1852 [==============================] - 26s 14ms/step - loss: 0.8210 - accuracy: 0.7161 - val_loss: 0.8426 - val_accuracy: 0.7109\n",
      "Epoch 95/100\n",
      "1852/1852 [==============================] - 26s 14ms/step - loss: 0.8185 - accuracy: 0.7180 - val_loss: 0.8309 - val_accuracy: 0.7141\n",
      "Epoch 96/100\n",
      "1852/1852 [==============================] - 26s 14ms/step - loss: 0.8204 - accuracy: 0.7180 - val_loss: 0.8250 - val_accuracy: 0.7207\n",
      "Epoch 97/100\n",
      "1852/1852 [==============================] - 26s 14ms/step - loss: 0.8192 - accuracy: 0.7180 - val_loss: 0.8264 - val_accuracy: 0.7188\n",
      "Epoch 98/100\n",
      "1852/1852 [==============================] - 26s 14ms/step - loss: 0.8195 - accuracy: 0.7171 - val_loss: 0.8403 - val_accuracy: 0.7111\n",
      "Epoch 99/100\n",
      "1852/1852 [==============================] - 26s 14ms/step - loss: 0.8188 - accuracy: 0.7177 - val_loss: 0.8315 - val_accuracy: 0.7166\n",
      "Epoch 100/100\n",
      "1852/1852 [==============================] - 26s 14ms/step - loss: 0.8196 - accuracy: 0.7170 - val_loss: 0.8377 - val_accuracy: 0.7153\n"
     ]
    }
   ],
   "source": [
    "history = model.fit(X_train_val, y_train_val, epochs = 100, \n",
    "                    validation_split = 0.25, shuffle = True, callbacks = None,\n",
    "                    use_multiprocessing=True, workers=4)"
   ]
  },
  {
   "cell_type": "code",
   "execution_count": 8,
   "metadata": {},
   "outputs": [
    {
     "name": "stdout",
     "output_type": "stream",
     "text": [
      "WARNING:tensorflow:From F:\\pyth3\\envs\\EPE_ML_TF2\\lib\\site-packages\\tensorflow\\python\\ops\\resource_variable_ops.py:1817: calling BaseResourceVariable.__init__ (from tensorflow.python.ops.resource_variable_ops) with constraint is deprecated and will be removed in a future version.\n",
      "Instructions for updating:\n",
      "If using Keras pass *_constraint arguments to layers.\n",
      "INFO:tensorflow:Assets written to: LSTM\\assets\n",
      "Model: \"model\"\n",
      "_________________________________________________________________\n",
      "Layer (type)                 Output Shape              Param #   \n",
      "=================================================================\n",
      "input_1 (InputLayer)         [(None, 20, 6)]           0         \n",
      "_________________________________________________________________\n",
      "lstm_lstm (LSTM)             (None, 20, 16)            1472      \n",
      "_________________________________________________________________\n",
      "flatten (Flatten)            (None, 320)               0         \n",
      "_________________________________________________________________\n",
      "rnn_densef (Dense)           (None, 5)                 1605      \n",
      "=================================================================\n",
      "Total params: 3,077\n",
      "Trainable params: 3,077\n",
      "Non-trainable params: 0\n",
      "_________________________________________________________________\n"
     ]
    }
   ],
   "source": [
    "model.save('LSTM')\n",
    "model.summary()"
   ]
  },
  {
   "cell_type": "markdown",
   "metadata": {},
   "source": [
    "# Test"
   ]
  },
  {
   "cell_type": "code",
   "execution_count": 9,
   "metadata": {},
   "outputs": [
    {
     "data": {
      "image/png": "[encoded data removed]",
      "text/plain": [
       "<Figure size 720x576 with 1 Axes>"
      ]
     },
     "metadata": {
      "needs_background": "light"
     },
     "output_type": "display_data"
    }
   ],
   "source": [
    "def learningCurve(history):\n",
    "    plt.figure(figsize=(10,8))\n",
    "    plt.plot(history.history['loss'], linewidth=1)\n",
    "    plt.plot(history.history['val_loss'], linewidth=1)\n",
    "    plt.title('Model Loss over Epochs')\n",
    "    plt.ylabel('Loss')\n",
    "    plt.xlabel('Epoch')\n",
    "    plt.legend(['training sample loss','validation sample loss'])\n",
    "    plt.savefig('Learning_curve.pdf')\n",
    "    plt.show()\n",
    "    plt.close()\n",
    "\n",
    "learningCurve(history)"
   ]
  },
  {
   "cell_type": "code",
   "execution_count": 10,
   "metadata": {},
   "outputs": [
    {
     "data": {
      "image/png": "[encoded data removed]",
      "text/plain": [
       "<Figure size 720x576 with 1 Axes>"
      ]
     },
     "metadata": {
      "needs_background": "light"
     },
     "output_type": "display_data"
    }
   ],
   "source": [
    "def makeRoc(features_val, labels_val, labels, model, outputDir='', outputSuffix=''):\n",
    "    from sklearn.metrics import roc_curve, auc\n",
    "    labels_pred = model.predict(features_val)\n",
    "    df = pd.DataFrame()\n",
    "    fpr = {}\n",
    "    tpr = {}\n",
    "    auc1 = {}\n",
    "    plt.figure(figsize=(10,8))\n",
    "    for i, label in enumerate(labels):\n",
    "        df[label] = labels_val[:,i]\n",
    "        df[label + '_pred'] = labels_pred[:,i]\n",
    "        fpr[label], tpr[label], threshold = roc_curve(df[label],df[label+'_pred'])\n",
    "        auc1[label] = auc(fpr[label], tpr[label])\n",
    "        plt.plot(fpr[label],tpr[label],label='%s tagger, AUC = %.1f%%'%(label.replace('j_',''),auc1[label]*100.))\n",
    "    plt.plot([0, 1], [0, 1], lw=1, color='black', linestyle='--')\n",
    "    #plt.semilogy()\n",
    "    plt.xlabel(\"Background Efficiency\")\n",
    "    plt.ylabel(\"Signal Efficiency\")\n",
    "    plt.xlim([-0.05, 1.05])\n",
    "    plt.ylim(0.001,1.05)\n",
    "    plt.grid(True)\n",
    "    plt.legend(loc='lower right')\n",
    "    plt.figtext(0.25, 0.90,'LSTM ROC Curve',fontweight='bold', wrap=True, horizontalalignment='right', fontsize=14)\n",
    "    #plt.figtext(0.35, 0.90,'preliminary', style='italic', wrap=True, horizontalalignment='center', fontsize=14) \n",
    "    #plt.savefig('%sROC_%s.pdf'%(outputDir, outputSuffix))\n",
    "    return labels_pred\n",
    "\n",
    "y_pred = makeRoc(X_test, y_test, labels, model, outputSuffix='conv1d')"
   ]
  },
  {
   "cell_type": "code",
   "execution_count": 11,
   "metadata": {},
   "outputs": [
    {
     "data": {
      "text/plain": [
       "Text(0.25, 0.9, 'LSTM')"
      ]
     },
     "execution_count": 11,
     "metadata": {},
     "output_type": "execute_result"
    },
    {
     "data": {
      "image/png": "[encoded data removed]",
      "text/plain": [
       "<Figure size 432x288 with 1 Axes>"
      ]
     },
     "metadata": {
      "needs_background": "light"
     },
     "output_type": "display_data"
    }
   ],
   "source": [
    "if 'j_index' in labels: labels.remove('j_index')\n",
    "\n",
    "predict_test = model.predict(X_test)\n",
    "\n",
    "df = pd.DataFrame()\n",
    "\n",
    "fpr = {}\n",
    "tpr = {}\n",
    "auc1 = {}\n",
    "\n",
    "plt.figure()       \n",
    "for i, label in enumerate(labels):\n",
    "    df[label] = y_test[:,i]\n",
    "    df[label + '_pred'] = predict_test[:,i]\n",
    "\n",
    "    fpr[label], tpr[label], threshold = roc_curve(df[label],df[label+'_pred'])\n",
    "\n",
    "    auc1[label] = auc(fpr[label], tpr[label])\n",
    "\n",
    "    plt.plot(tpr[label],fpr[label],label='%s tagger, AUC = %.1f%%'%(label.replace('j_',''),auc1[label]*100.))\n",
    "plt.semilogy()\n",
    "plt.xlabel(\"Signal Efficiency\")\n",
    "plt.ylabel(\"Background Efficiency\")\n",
    "plt.ylim(0.001,1)\n",
    "plt.grid(True)\n",
    "plt.legend(loc='upper left')\n",
    "plt.figtext(0.25, 0.90,'LSTM',fontweight='bold', wrap=True, horizontalalignment='right', fontsize=14)"
   ]
  },
  {
   "cell_type": "code",
   "execution_count": null,
   "metadata": {},
   "outputs": [],
   "source": []
  },
  {
   "cell_type": "code",
   "execution_count": null,
   "metadata": {},
   "outputs": [],
   "source": []
  },
  {
   "cell_type": "code",
   "execution_count": null,
   "metadata": {},
   "outputs": [],
   "source": []
  }
 ],
 "metadata": {
  "kernelspec": {
   "display_name": "Python 3",
   "language": "python",
   "name": "python3"
  },
  "language_info": {
   "codemirror_mode": {
    "name": "ipython",
    "version": 3
   },
   "file_extension": ".py",
   "mimetype": "text/x-python",
   "name": "python",
   "nbconvert_exporter": "python",
   "pygments_lexer": "ipython3",
   "version": "3.6.10"
  }
 },
 "nbformat": 4,
 "nbformat_minor": 4
}
